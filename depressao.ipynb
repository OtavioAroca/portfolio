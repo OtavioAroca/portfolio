{
 "cells": [
  {
   "cell_type": "markdown",
   "metadata": {},
   "source": [
    "Qual o perfil de indivíduos (adultos maiores de 18 anos) com sintomas\n",
    "depressivos nos EUA no período de 2005-2006?\n",
    "\n",
    "Hábitos saudáveis de alimentação e atividade física estão associados a\n",
    "menores índices de depressão nesta população?"
   ]
  },
  {
   "cell_type": "markdown",
   "metadata": {},
   "source": [
    "## **Importações**"
   ]
  },
  {
   "cell_type": "code",
   "execution_count": 268,
   "metadata": {},
   "outputs": [],
   "source": [
    "import pandas as pd\n",
    "import matplotlib.pyplot as plt\n",
    "import seaborn as sns\n",
    "import numpy as np\n",
    "from scipy.stats import kendalltau, spearmanr"
   ]
  },
  {
   "cell_type": "markdown",
   "metadata": {},
   "source": [
    "## **Conhecendo o DataFrame - Demo**"
   ]
  },
  {
   "cell_type": "markdown",
   "metadata": {},
   "source": [
    "Será observadas as características básicas do DataFrame demo. O objetivo é compreender a quantidade de colunas, seus tipos, quantidade de linhas, dentre outros."
   ]
  },
  {
   "cell_type": "markdown",
   "metadata": {},
   "source": [
    "### **Dicionário das Variáveis** - Demo"
   ]
  },
  {
   "cell_type": "markdown",
   "metadata": {},
   "source": [
    "* **SEQN:** Identificador único do respondente.\n",
    "\n",
    "* **DPQ010:**\n",
    "\n",
    "    * **Descrição:** Nas últimas 2 semanas, com que frequência você ficou incomodado por ter pouco interesse ou pouco prazer em fazer as coisas?\n",
    "\n",
    "    * **Valores:**\n",
    "        * 0: Nenhuma vez\n",
    "        * 1: Menos de uma semana\n",
    "        * 2: Uma semana ou mais\n",
    "        * 3: Quase todos os dias\n",
    "        * 7: Se recusou a responder\n",
    "        * 9: Não sabe\n",
    "\n",
    "* **DPQ020:**\n",
    "\n",
    "    * **Descrição:** Nas últimas 2 semanas, com que frequência você se sentiu para baixo, deprimido(a) ou sem perspectiva?\n",
    "    \n",
    "    * **Valores:** \n",
    "        * 0: Nenhuma vez\n",
    "        * 1: Menos de uma semana\n",
    "        * 2: Uma semana ou mais\n",
    "        * 3: Quase todos os dias\n",
    "        * 7: Se recusou a responder\n",
    "        * 9: Não sabe\n",
    "* **DPQ030:**\n",
    "\n",
    "    * **Descrição:** Nas últimas 2 semanas, com que frequência você teve dificuldade para pegar no sono ou permanecer dormindo ou dormiu mais do que o costume?\n",
    "    \n",
    "    * **Valores:** \n",
    "        * 0: Nenhuma vez\n",
    "        * 1: Menos de uma semana\n",
    "        * 2: Uma semana ou mais\n",
    "        * 3: Quase todos os dias\n",
    "        * 7: Se recusou a responder\n",
    "        * 9: Não sabe\n",
    "* **DPQ040:**\n",
    "\n",
    "    * **Descrição:** Nas últimas 2 semanas, com que frequência você se sentiu cansado(a) ou com pouca energia?\n",
    "    \n",
    "    * **Valores:** \n",
    "        * 0: Nenhuma vez\n",
    "        * 1: Menos de uma semana\n",
    "        * 2: Uma semana ou mais\n",
    "        * 3: Quase todos os dias\n",
    "        * 7: Se recusou a responder\n",
    "        * 9: Não sabe\n",
    "\n",
    "* **DPQ050:**\n",
    "\n",
    "    * **Descrição:** Nas últimas 2 semanas, com que frequência você sentiu falta de apetite ou comeu demais?\n",
    "    \n",
    "    * **Valores:** \n",
    "        * 0: Nenhuma vez\n",
    "        * 1: Menos de uma semana\n",
    "        * 2: Uma semana ou mais\n",
    "        * 3: Quase todos os dias\n",
    "        * 7: Se recusou a responder\n",
    "        * 9: Não sabe\n",
    "\n",
    "* **DPQ060**:\n",
    "\n",
    "    * **Descrição:** Nas últimas 2 semanas, com que frequência você se sentiu mal consigo mesmo(a) ou achou que é um fracasso ou que decepcionou sua família ou a você mesmo(a)?\n",
    "    \n",
    "    * **Valores:** \n",
    "        * 0: Nenhuma vez\n",
    "        * 1: Menos de uma semana\n",
    "        * 2: Uma semana ou mais\n",
    "        * 3: Quase todos os dias\n",
    "        * 7: Se recusou a responder\n",
    "        * 9: Não sabe\n",
    "* **DPQ070:**\n",
    "\n",
    "    * **Descrição:** Nas últimas 2 semanas, com que frequência você teve dificuldade para se concentrar nas coisas (como ler o jornal ou ver televisão)?\n",
    "    \n",
    "    * **Valores:** \n",
    "        * 0: Nenhuma vez\n",
    "        * 1: Menos de uma semana\n",
    "        * 2: Uma semana ou mais\n",
    "        * 3: Quase todos os dias\n",
    "        * 7: Se recusou a responder\n",
    "        * 9: Não sabe\n",
    "\n",
    "* **DPQ080:**\n",
    "\n",
    "    * **Descrição:** Nas últimas 2 semanas, com que frequência você teve lentidão para se movimentar ou falar (a ponto de outras pessoas perceberem), ou ao contrário, esteve tão agitado(a) que você ficava andando de um lado para o outro mais do que costume?\n",
    "    \n",
    "    * **Valores:** \n",
    "        * 0: Nenhuma vez\n",
    "        * 1: Menos de uma semana\n",
    "        * 2: Uma semana ou mais\n",
    "        * 3: Quase todos os dias\n",
    "        * 7: Se recusou a responder\n",
    "        * 9: Não sabe\n",
    "\n",
    "* **DPQ090:**\n",
    "\n",
    "    * **Descrição:** Nas últimas 2 semanas, com que frequência você pensou em se ferir de alguma maneira ou que seria melhor estar morto(a)?\n",
    "    \n",
    "    * **Valores:** \n",
    "        * 0: Nenhuma vez\n",
    "        * 1: Menos de uma semana\n",
    "        * 2: Uma semana ou mais\n",
    "        * 3: Quase todos os dias\n",
    "        * 7: Se recusou a responder\n",
    "        * 9: Não sabe\n",
    "\n",
    "* **RIAGENDR:**\n",
    "\n",
    "    * **Descrição:** Gênero\n",
    "    * **Valores:**\n",
    "        * 1: Masculino\n",
    "        * 2: Feminino\n",
    "\n",
    "* **RIDAGEYR:**\n",
    "\n",
    "    * **Descrição:** Idade em anos\n",
    "\n",
    "* **RIDRETH1:**\n",
    "\n",
    "    * **Descrição:** Raça/Etnia\n",
    "    * **Valores:**\n",
    "\n",
    "        * 1: Branco não-hispânico\n",
    "        * 2: Negro não-hispânico\n",
    "        * 3: Mexicano-americano\n",
    "        * 4: Outro\n",
    "        * 5: Outro - Hispânico\n",
    "\n",
    "* **DMDEDUC:**\n",
    "\n",
    "    * **Descrição:** Escolaridade\n",
    "    * **Valores:**\n",
    "        * 1: Menor que 9o ano\n",
    "        * 2: 9-12o ano\n",
    "        * 3: Ensino médio\n",
    "        * 4: Ensino superior incompleto\n",
    "        * 5: Superior completo ou maior\n",
    "        * 7: Se recusou a responder\n",
    "        * 9: Não sabe\n",
    "\n",
    "* **INDFMINC:**\n",
    "\n",
    "    * **Descrição:** Renda anual familiar (US$)\n",
    "    * **Valores:**\n",
    "        * 1: 0-4999\n",
    "        * 2: 5000-9999\n",
    "        * 3: 10000-14999\n",
    "        * 4: 15000-19999\n",
    "        * 5: 20000-24999\n",
    "        * 6: 25000-34999\n",
    "        * 7: 35000-44999\n",
    "        * 8: 45000-54999\n",
    "        * 9: 55000-64999\n",
    "        * 10: 65000-74999\n",
    "        * 11: Maior ou igual a 75000\n",
    "        * 12: Maior que 20000\n",
    "        * 13: Menor que 20000\n",
    "        * 77: Se recusou a responder\n",
    "        * 99: Não sabe"
   ]
  },
  {
   "cell_type": "code",
   "execution_count": 269,
   "metadata": {},
   "outputs": [],
   "source": [
    "demo = pd.read_csv('/Users/joaoaroca/Documents/Portfólio/depressao/portfolio/DEMO_PHQ.csv')"
   ]
  },
  {
   "cell_type": "code",
   "execution_count": 270,
   "metadata": {},
   "outputs": [
    {
     "data": {
      "text/html": [
       "<div>\n",
       "<style scoped>\n",
       "    .dataframe tbody tr th:only-of-type {\n",
       "        vertical-align: middle;\n",
       "    }\n",
       "\n",
       "    .dataframe tbody tr th {\n",
       "        vertical-align: top;\n",
       "    }\n",
       "\n",
       "    .dataframe thead th {\n",
       "        text-align: right;\n",
       "    }\n",
       "</style>\n",
       "<table border=\"1\" class=\"dataframe\">\n",
       "  <thead>\n",
       "    <tr style=\"text-align: right;\">\n",
       "      <th></th>\n",
       "      <th>SEQN</th>\n",
       "      <th>DPQ010</th>\n",
       "      <th>DPQ020</th>\n",
       "      <th>DPQ030</th>\n",
       "      <th>DPQ040</th>\n",
       "      <th>DPQ050</th>\n",
       "      <th>DPQ060</th>\n",
       "      <th>DPQ070</th>\n",
       "      <th>DPQ080</th>\n",
       "      <th>DPQ090</th>\n",
       "      <th>RIAGENDR</th>\n",
       "      <th>RIDAGEYR</th>\n",
       "      <th>RIDRETH1</th>\n",
       "      <th>DMDEDUC</th>\n",
       "      <th>INDFMINC</th>\n",
       "    </tr>\n",
       "  </thead>\n",
       "  <tbody>\n",
       "    <tr>\n",
       "      <th>0</th>\n",
       "      <td>31130</td>\n",
       "      <td>NaN</td>\n",
       "      <td>NaN</td>\n",
       "      <td>NaN</td>\n",
       "      <td>NaN</td>\n",
       "      <td>NaN</td>\n",
       "      <td>NaN</td>\n",
       "      <td>NaN</td>\n",
       "      <td>NaN</td>\n",
       "      <td>NaN</td>\n",
       "      <td>2</td>\n",
       "      <td>85</td>\n",
       "      <td>3</td>\n",
       "      <td>4</td>\n",
       "      <td>4.0</td>\n",
       "    </tr>\n",
       "    <tr>\n",
       "      <th>1</th>\n",
       "      <td>31131</td>\n",
       "      <td>0.0</td>\n",
       "      <td>0.0</td>\n",
       "      <td>0.0</td>\n",
       "      <td>0.0</td>\n",
       "      <td>0.0</td>\n",
       "      <td>0.0</td>\n",
       "      <td>0.0</td>\n",
       "      <td>0.0</td>\n",
       "      <td>0.0</td>\n",
       "      <td>2</td>\n",
       "      <td>44</td>\n",
       "      <td>4</td>\n",
       "      <td>4</td>\n",
       "      <td>11.0</td>\n",
       "    </tr>\n",
       "    <tr>\n",
       "      <th>2</th>\n",
       "      <td>31132</td>\n",
       "      <td>0.0</td>\n",
       "      <td>0.0</td>\n",
       "      <td>0.0</td>\n",
       "      <td>0.0</td>\n",
       "      <td>0.0</td>\n",
       "      <td>0.0</td>\n",
       "      <td>0.0</td>\n",
       "      <td>0.0</td>\n",
       "      <td>0.0</td>\n",
       "      <td>1</td>\n",
       "      <td>70</td>\n",
       "      <td>3</td>\n",
       "      <td>5</td>\n",
       "      <td>11.0</td>\n",
       "    </tr>\n",
       "    <tr>\n",
       "      <th>3</th>\n",
       "      <td>31134</td>\n",
       "      <td>0.0</td>\n",
       "      <td>0.0</td>\n",
       "      <td>0.0</td>\n",
       "      <td>0.0</td>\n",
       "      <td>0.0</td>\n",
       "      <td>0.0</td>\n",
       "      <td>0.0</td>\n",
       "      <td>0.0</td>\n",
       "      <td>0.0</td>\n",
       "      <td>1</td>\n",
       "      <td>73</td>\n",
       "      <td>3</td>\n",
       "      <td>3</td>\n",
       "      <td>12.0</td>\n",
       "    </tr>\n",
       "    <tr>\n",
       "      <th>4</th>\n",
       "      <td>31139</td>\n",
       "      <td>0.0</td>\n",
       "      <td>0.0</td>\n",
       "      <td>0.0</td>\n",
       "      <td>0.0</td>\n",
       "      <td>3.0</td>\n",
       "      <td>1.0</td>\n",
       "      <td>0.0</td>\n",
       "      <td>0.0</td>\n",
       "      <td>0.0</td>\n",
       "      <td>2</td>\n",
       "      <td>18</td>\n",
       "      <td>2</td>\n",
       "      <td>3</td>\n",
       "      <td>11.0</td>\n",
       "    </tr>\n",
       "  </tbody>\n",
       "</table>\n",
       "</div>"
      ],
      "text/plain": [
       "    SEQN  DPQ010  DPQ020  DPQ030  DPQ040  DPQ050  DPQ060  DPQ070  DPQ080  \\\n",
       "0  31130     NaN     NaN     NaN     NaN     NaN     NaN     NaN     NaN   \n",
       "1  31131     0.0     0.0     0.0     0.0     0.0     0.0     0.0     0.0   \n",
       "2  31132     0.0     0.0     0.0     0.0     0.0     0.0     0.0     0.0   \n",
       "3  31134     0.0     0.0     0.0     0.0     0.0     0.0     0.0     0.0   \n",
       "4  31139     0.0     0.0     0.0     0.0     3.0     1.0     0.0     0.0   \n",
       "\n",
       "   DPQ090  RIAGENDR  RIDAGEYR  RIDRETH1  DMDEDUC  INDFMINC  \n",
       "0     NaN         2        85         3        4       4.0  \n",
       "1     0.0         2        44         4        4      11.0  \n",
       "2     0.0         1        70         3        5      11.0  \n",
       "3     0.0         1        73         3        3      12.0  \n",
       "4     0.0         2        18         2        3      11.0  "
      ]
     },
     "execution_count": 270,
     "metadata": {},
     "output_type": "execute_result"
    }
   ],
   "source": [
    "# Verificando as primeiras linhas do DataFrame\n",
    "demo.head()"
   ]
  },
  {
   "cell_type": "code",
   "execution_count": 271,
   "metadata": {},
   "outputs": [
    {
     "name": "stdout",
     "output_type": "stream",
     "text": [
      "<class 'pandas.core.frame.DataFrame'>\n",
      "RangeIndex: 5334 entries, 0 to 5333\n",
      "Data columns (total 15 columns):\n",
      " #   Column    Non-Null Count  Dtype  \n",
      "---  ------    --------------  -----  \n",
      " 0   SEQN      5334 non-null   int64  \n",
      " 1   DPQ010    4836 non-null   float64\n",
      " 2   DPQ020    4836 non-null   float64\n",
      " 3   DPQ030    4836 non-null   float64\n",
      " 4   DPQ040    4836 non-null   float64\n",
      " 5   DPQ050    4836 non-null   float64\n",
      " 6   DPQ060    4836 non-null   float64\n",
      " 7   DPQ070    4836 non-null   float64\n",
      " 8   DPQ080    4836 non-null   float64\n",
      " 9   DPQ090    4836 non-null   float64\n",
      " 10  RIAGENDR  5334 non-null   int64  \n",
      " 11  RIDAGEYR  5334 non-null   int64  \n",
      " 12  RIDRETH1  5334 non-null   int64  \n",
      " 13  DMDEDUC   5334 non-null   int64  \n",
      " 14  INDFMINC  5287 non-null   float64\n",
      "dtypes: float64(10), int64(5)\n",
      "memory usage: 625.2 KB\n"
     ]
    }
   ],
   "source": [
    "# Verificando as informações básicas do DataFrame\n",
    "demo.info()"
   ]
  },
  {
   "cell_type": "markdown",
   "metadata": {},
   "source": [
    "As variáveis estão com um tipo que permite prosseguir com a análise, portanto, não serão transformadas em outros tipos."
   ]
  },
  {
   "cell_type": "markdown",
   "metadata": {},
   "source": [
    "Será realizado a soma de DPQ010 à DPQ090 para obter um valor que possa representar o grau de sintomas depressivos. Como o valor 7 representa que a pessoa se recusou a responder e o valor 9 significa que a pessoa não sabe, serão alterados para 0, para não influenciarem no Score."
   ]
  },
  {
   "cell_type": "code",
   "execution_count": 272,
   "metadata": {},
   "outputs": [],
   "source": [
    "# Seperando as colunas DPQ010 à DPQ090\n",
    "colunas = ['DPQ010','DPQ020','DPQ030','DPQ040','DPQ050','DPQ060','DPQ070','DPQ080','DPQ090']\n",
    "\n",
    "# Como os valores de 7 e 9 podem influenciar a métrica DPQ_SCORE, mesmo não possuindo informações que contribuam, serão substituídos por 0, assim não influenciarão.\n",
    "demo[colunas] = demo[colunas].replace({7: 0, 9: 0})\n",
    "\n",
    "demo['DPQ_SCORE'] = demo[colunas].sum(axis=1)"
   ]
  },
  {
   "cell_type": "markdown",
   "metadata": {},
   "source": [
    "Será criada a coluna DEPRESSION_CATEGORY que representará o grau de sintomas depressivos conforme descrito abaixo:\n",
    "\n",
    "* 0 (\"sem sintomas\") se DPQ_SCORE < 5\n",
    "\n",
    "* 1 (\"sintomas leves\") se 5 <= DPQ_SCORE < 10\n",
    "\n",
    "* 2 (\"sintomas moderados a severos\") se DPQ_SCORE >= 10"
   ]
  },
  {
   "cell_type": "code",
   "execution_count": 273,
   "metadata": {},
   "outputs": [],
   "source": [
    "# Criando a coluna CATEGORY com base no valor de DPQ_SCORE\n",
    "demo['DEPRESSION_CATEGORY'] = demo['DPQ_SCORE'].apply(lambda x: 0 if x < 5 else (1 if x < 10 and x >= 5 else 2))"
   ]
  },
  {
   "cell_type": "code",
   "execution_count": 274,
   "metadata": {},
   "outputs": [
    {
     "data": {
      "text/plain": [
       "DEPRESSION_CATEGORY\n",
       "0    4315\n",
       "Name: count, dtype: int64"
      ]
     },
     "execution_count": 274,
     "metadata": {},
     "output_type": "execute_result"
    }
   ],
   "source": [
    "# Verificando se criou corretamente para os valores de DPQ_SCORE < 5\n",
    "demo['DEPRESSION_CATEGORY'].loc[demo['DPQ_SCORE'] < 5].value_counts()"
   ]
  },
  {
   "cell_type": "code",
   "execution_count": 275,
   "metadata": {},
   "outputs": [
    {
     "data": {
      "text/plain": [
       "DEPRESSION_CATEGORY\n",
       "1    714\n",
       "Name: count, dtype: int64"
      ]
     },
     "execution_count": 275,
     "metadata": {},
     "output_type": "execute_result"
    }
   ],
   "source": [
    "# Verificando se criou corretamente para os valores de DPQ_SCORE < 10 e >= 5\n",
    "demo['DEPRESSION_CATEGORY'].loc[(demo['DPQ_SCORE'] < 10) & (demo['DPQ_SCORE'] >= 5)].value_counts()"
   ]
  },
  {
   "cell_type": "code",
   "execution_count": 276,
   "metadata": {},
   "outputs": [
    {
     "data": {
      "text/plain": [
       "DEPRESSION_CATEGORY\n",
       "2    305\n",
       "Name: count, dtype: int64"
      ]
     },
     "execution_count": 276,
     "metadata": {},
     "output_type": "execute_result"
    }
   ],
   "source": [
    "# Verificando se criou corretamente para os valores de DPQ_SCORE >= 10\n",
    "demo['DEPRESSION_CATEGORY'].loc[demo['DPQ_SCORE']>= 10].value_counts()"
   ]
  },
  {
   "cell_type": "markdown",
   "metadata": {},
   "source": [
    "## **Limpeza dos dados** - Demo"
   ]
  },
  {
   "cell_type": "code",
   "execution_count": 277,
   "metadata": {},
   "outputs": [
    {
     "data": {
      "text/plain": [
       "SEQN                   0.000000\n",
       "DPQ010                 9.336333\n",
       "DPQ020                 9.336333\n",
       "DPQ030                 9.336333\n",
       "DPQ040                 9.336333\n",
       "DPQ050                 9.336333\n",
       "DPQ060                 9.336333\n",
       "DPQ070                 9.336333\n",
       "DPQ080                 9.336333\n",
       "DPQ090                 9.336333\n",
       "RIAGENDR               0.000000\n",
       "RIDAGEYR               0.000000\n",
       "RIDRETH1               0.000000\n",
       "DMDEDUC                0.000000\n",
       "INDFMINC               0.881140\n",
       "DPQ_SCORE              0.000000\n",
       "DEPRESSION_CATEGORY    0.000000\n",
       "dtype: float64"
      ]
     },
     "execution_count": 277,
     "metadata": {},
     "output_type": "execute_result"
    }
   ],
   "source": [
    "# Veriricando a porcentagem de valores ausentes\n",
    "demo.isnull().sum() / demo.shape[0] * 100"
   ]
  },
  {
   "cell_type": "markdown",
   "metadata": {},
   "source": [
    "As colunas DPQ010 à DPQ090 apresentam uma quantidade significativa de valores nulos, portanto, deve-se análisar se os dados ausentes têm relação com alguma variável. Por estar interessado principalmente na presença e na direção de uma relação entre duas variáveis, independentemente da forma específica da relação, a correlação de Spearman ou de Kendall pode ser preferível. Portanto, será realizado ambos os testes para verificar se são aleatórias as ausencias de dados."
   ]
  },
  {
   "cell_type": "markdown",
   "metadata": {},
   "source": [
    "### Correlação de Kendall"
   ]
  },
  {
   "cell_type": "code",
   "execution_count": 278,
   "metadata": {},
   "outputs": [
    {
     "name": "stdout",
     "output_type": "stream",
     "text": [
      "          ausente_DPQ010  ausente_DPQ020  ausente_DPQ030  ausente_DPQ040  \\\n",
      "RIAGENDR        0.011741        0.011741        0.011741        0.011741   \n",
      "RIDAGEYR        0.010756        0.010756        0.010756        0.010756   \n",
      "RIDRETH1        0.036781        0.036781        0.036781        0.036781   \n",
      "DMDEDUC        -0.057435       -0.057435       -0.057435       -0.057435   \n",
      "INDFMINC             NaN             NaN             NaN             NaN   \n",
      "\n",
      "          ausente_DPQ050  ausente_DPQ060  ausente_DPQ070  ausente_DPQ080  \\\n",
      "RIAGENDR        0.011741        0.011741        0.011741        0.011741   \n",
      "RIDAGEYR        0.010756        0.010756        0.010756        0.010756   \n",
      "RIDRETH1        0.036781        0.036781        0.036781        0.036781   \n",
      "DMDEDUC        -0.057435       -0.057435       -0.057435       -0.057435   \n",
      "INDFMINC             NaN             NaN             NaN             NaN   \n",
      "\n",
      "          ausente_DPQ090  ausente_DPQ_SCORE  \n",
      "RIAGENDR        0.011741                NaN  \n",
      "RIDAGEYR        0.010756                NaN  \n",
      "RIDRETH1        0.036781                NaN  \n",
      "DMDEDUC        -0.057435                NaN  \n",
      "INDFMINC             NaN                NaN  \n"
     ]
    }
   ],
   "source": [
    "# Criar variáveis indicadoras de ausência para as variáveis DPQ\n",
    "for col in demo.columns:\n",
    "    if col.startswith('DPQ'):\n",
    "        demo[f'ausente_{col}'] = demo[col].isnull().astype(int)\n",
    "\n",
    "# Variáveis de interesse\n",
    "variaveis_interesse = ['RIAGENDR', 'RIDAGEYR', 'RIDRETH1', 'DMDEDUC', 'INDFMINC']\n",
    "\n",
    "# Calcular a correlação de Kendall entre a presença de valores ausentes nas variáveis DPQ e as variáveis de interesse\n",
    "correlacoes_kendall = {}\n",
    "for col in demo.columns:\n",
    "    if col.startswith('ausente_DPQ'):\n",
    "        correlacoes_kendall[col] = {}\n",
    "        for var in variaveis_interesse:\n",
    "            tau, _ = kendalltau(demo[col], demo[var])\n",
    "            correlacoes_kendall[col][var] = tau\n",
    "\n",
    "# Converter o dicionário de correlações em um DataFrame para visualização\n",
    "df_correlacoes_kendall = pd.DataFrame(correlacoes_kendall)\n",
    "\n",
    "print(df_correlacoes_kendall)"
   ]
  },
  {
   "cell_type": "markdown",
   "metadata": {},
   "source": [
    "### Correlação de Spearman"
   ]
  },
  {
   "cell_type": "code",
   "execution_count": 279,
   "metadata": {},
   "outputs": [
    {
     "name": "stdout",
     "output_type": "stream",
     "text": [
      "          ausente_DPQ010  ausente_DPQ020  ausente_DPQ030  ausente_DPQ040  \\\n",
      "RIAGENDR        0.011741        0.011741        0.011741        0.011741   \n",
      "RIDAGEYR        0.013051        0.013051        0.013051        0.013051   \n",
      "RIDRETH1        0.039521        0.039521        0.039521        0.039521   \n",
      "DMDEDUC        -0.063881       -0.063881       -0.063881       -0.063881   \n",
      "INDFMINC             NaN             NaN             NaN             NaN   \n",
      "\n",
      "          ausente_DPQ050  ausente_DPQ060  ausente_DPQ070  ausente_DPQ080  \\\n",
      "RIAGENDR        0.011741        0.011741        0.011741        0.011741   \n",
      "RIDAGEYR        0.013051        0.013051        0.013051        0.013051   \n",
      "RIDRETH1        0.039521        0.039521        0.039521        0.039521   \n",
      "DMDEDUC        -0.063881       -0.063881       -0.063881       -0.063881   \n",
      "INDFMINC             NaN             NaN             NaN             NaN   \n",
      "\n",
      "          ausente_DPQ090  ausente_DPQ_SCORE  \n",
      "RIAGENDR        0.011741                NaN  \n",
      "RIDAGEYR        0.013051                NaN  \n",
      "RIDRETH1        0.039521                NaN  \n",
      "DMDEDUC        -0.063881                NaN  \n",
      "INDFMINC             NaN                NaN  \n"
     ]
    },
    {
     "name": "stderr",
     "output_type": "stream",
     "text": [
      "/var/folders/5b/94pzbwt93956n1sc6yjsyf2c0000gn/T/ipykernel_1679/359601840.py:14: ConstantInputWarning: An input array is constant; the correlation coefficient is not defined.\n",
      "  rho, _ = spearmanr(demo[col], demo[var])\n"
     ]
    }
   ],
   "source": [
    "for col in demo.columns:\n",
    "    if col.startswith('DPQ'):\n",
    "        demo[f'ausente_{col}'] = demo[col].isnull().astype(int)\n",
    "\n",
    "# Variáveis de interesse\n",
    "variaveis_interesse = ['RIAGENDR', 'RIDAGEYR', 'RIDRETH1', 'DMDEDUC', 'INDFMINC']\n",
    "\n",
    "# Calcular a correlação de Spearman entre a presença de valores ausentes nas variáveis DPQ e as variáveis de interesse\n",
    "correlacoes_spearman = {}\n",
    "for col in demo.columns:\n",
    "    if col.startswith('ausente_DPQ'):\n",
    "        correlacoes_spearman[col] = {}\n",
    "        for var in variaveis_interesse:\n",
    "            rho, _ = spearmanr(demo[col], demo[var])\n",
    "            correlacoes_spearman[col][var] = rho\n",
    "\n",
    "# Converter o dicionário de correlações em um DataFrame para visualização\n",
    "df_correlacoes_spearman = pd.DataFrame(correlacoes_spearman)\n",
    "\n",
    "print(df_correlacoes_spearman)"
   ]
  },
  {
   "cell_type": "markdown",
   "metadata": {},
   "source": [
    "Como não apresentou forte correlação entre as variáveis, será realizada a limpeza dos valores nulos, para não prejuficar a análise. Está sendo considerado que os valores nulos apresentados no DataFrame são do tipo MCAR (Missing Completely At Random), ou seja, a probabilidade de um valor estar ausente é a mesma para todas as observações. Os valores ausentes são imprevisíveis e não podem ser explicados por nenhuma variável observada. A variável INDFMINC apresenta uma quantidade extremamente baixa de valores nulos, portanto, será removido os valores nulos também."
   ]
  },
  {
   "cell_type": "code",
   "execution_count": 280,
   "metadata": {},
   "outputs": [],
   "source": [
    "# Removendo as colunas que foram usadas na correlação\n",
    "demo.drop(columns=['ausente_DPQ010', 'ausente_DPQ020',  'ausente_DPQ030', 'ausente_DPQ040', 'ausente_DPQ050', 'ausente_DPQ060',\n",
    "       'ausente_DPQ070', 'ausente_DPQ080', 'ausente_DPQ090'], inplace= True)"
   ]
  },
  {
   "cell_type": "code",
   "execution_count": 281,
   "metadata": {},
   "outputs": [],
   "source": [
    "# Removendo os valores nulos do DataFrame\n",
    "demo.dropna(inplace=True)"
   ]
  },
  {
   "cell_type": "markdown",
   "metadata": {},
   "source": [
    "## **Conhecendo o DataFrame - Pag**"
   ]
  },
  {
   "cell_type": "markdown",
   "metadata": {},
   "source": [
    "### Dicionário de Dados - Pag"
   ]
  },
  {
   "cell_type": "markdown",
   "metadata": {},
   "source": [
    "**SEQN:** Identificador único do respondente.\n",
    "\n",
    "**PAG_MINW:** Tempo total semanal de atividade aeróbica moderada-vigorosa em minutos segundo o Physical Activity Guideline (PAG).\n",
    "\n",
    "**ADHERENCE:** Grupo de aderência ao Physical Activity Guideline (PAG).\n",
    "\n",
    "* 1 = Baixo (< 150 min/semana)\n",
    "* 2 = Adequado (150-300 min/semana)\n",
    "* 3 = Acima (> 300 min/semana)\n",
    "\n",
    "**HEI2015C1_TOTALVEG:** Healthy Eating Index - Componente 1 - Total de Vegetais.\n",
    "* Valores possíveis: 0-5\n",
    "\n",
    "**HEI2015C2_GREEN_AND_BEAN:** Healthy Eating Index - Componente 2 - Verduras verde-escuras e leguminosas.\n",
    "* Valores possíveis: 0-5\n",
    "\n",
    "**HEI2015C3_TOTALFRUIT:** Healthy Eating Index - Componente 3 - Frutas totais.\n",
    "* Valores possíveis: 0-5\n",
    "\n",
    "**HEI2015C4_WHOLEFRUIT:** Healthy Eating Index - Componente 4 - Frutas in natura.\n",
    "* Valores possíveis: 0-5\n",
    "\n",
    "**HEI2015C5_WHOLEGRAIN:** Healthy Eating Index - Componente 5 - Grãos integrais.\n",
    "* Valores possíveis: 0-10\n",
    "\n",
    "**HEI2015C6_TOTALDAIRY:** Healthy Eating Index - Componente 6 - Laticínios.\n",
    "* Valores possíveis: 0-10\n",
    "\n",
    "**HEI2015C7_TOTPROT:** Healthy Eating Index - Componente 7 - Proteínas.\n",
    "* Valores possíveis: 0-5\n",
    "\n",
    "**HEI2015C8_SEAPLANT_PROT:** Healthy Eating Index - Componente 8 - Plantas marinhas e proteínas vegetais.\n",
    "* Valores possíveis: 0-5\n",
    "\n",
    "**HEI2015C9_FATTYACID:** Healthy Eating Index - Componente 9 - Ácido-graxo.\n",
    "* Valores possíveis: 0-10\n",
    "\n",
    "**HEI2015C10_SODIUM:** Healthy Eating Index - Componente 10 - Sódio.\n",
    "* Valores possíveis: 0-10\n",
    "\n",
    "**HEI2015C11_REFINEDGRAIN:** Healthy Eating Index - Componente 11 - Grãos refinados.\n",
    "* Valores possíveis: 0-10\n",
    "\n",
    "**HEI2015C12_SFAT:** Healthy Eating Index - Componente 12 - Gordura saturada.\n",
    "* Valores possíveis: 0-10\n",
    "\n",
    "**HEI2015C13_ADDSUG:** Healthy Eating Index - Componente 13 - Açúcares adicionados.\n",
    "* Valores possíveis: 0-10\n",
    "\n",
    "**HEI2015_TOTAL_SCORE:** Healthy Eating Index - Escore total.\n",
    "* Valores possíveis: 0-100"
   ]
  },
  {
   "cell_type": "code",
   "execution_count": 282,
   "metadata": {},
   "outputs": [],
   "source": [
    "pag = pd.read_csv('/Users/joaoaroca/Documents/Portfólio/depressao/portfolio/PAG_HEI.csv')"
   ]
  },
  {
   "cell_type": "code",
   "execution_count": 283,
   "metadata": {},
   "outputs": [
    {
     "name": "stdout",
     "output_type": "stream",
     "text": [
      "<class 'pandas.core.frame.DataFrame'>\n",
      "RangeIndex: 9424 entries, 0 to 9423\n",
      "Data columns (total 17 columns):\n",
      " #   Column                    Non-Null Count  Dtype  \n",
      "---  ------                    --------------  -----  \n",
      " 0   SEQN                      9424 non-null   int64  \n",
      " 1   PAG_MINW                  7150 non-null   float64\n",
      " 2   ADHERENCE                 7150 non-null   float64\n",
      " 3   HEI2015C1_TOTALVEG        8549 non-null   float64\n",
      " 4   HEI2015C2_GREEN_AND_BEAN  8549 non-null   float64\n",
      " 5   HEI2015C3_TOTALFRUIT      8549 non-null   float64\n",
      " 6   HEI2015C4_WHOLEFRUIT      8549 non-null   float64\n",
      " 7   HEI2015C5_WHOLEGRAIN      8549 non-null   float64\n",
      " 8   HEI2015C6_TOTALDAIRY      8549 non-null   float64\n",
      " 9   HEI2015C7_TOTPROT         8549 non-null   float64\n",
      " 10  HEI2015C8_SEAPLANT_PROT   8549 non-null   float64\n",
      " 11  HEI2015C9_FATTYACID       8549 non-null   float64\n",
      " 12  HEI2015C10_SODIUM         8549 non-null   float64\n",
      " 13  HEI2015C11_REFINEDGRAIN   8549 non-null   float64\n",
      " 14  HEI2015C12_SFAT           8549 non-null   float64\n",
      " 15  HEI2015C13_ADDSUG         8549 non-null   float64\n",
      " 16  HEI2015_TOTAL_SCORE       8549 non-null   float64\n",
      "dtypes: float64(16), int64(1)\n",
      "memory usage: 1.2 MB\n"
     ]
    }
   ],
   "source": [
    "# Obtendo informações básicas sobre o DataFrame\n",
    "pag.info()"
   ]
  },
  {
   "cell_type": "markdown",
   "metadata": {},
   "source": [
    "O tipo de dados presente nas variáveis não interferem negativamente na análise, portanto, não serão transformadas."
   ]
  },
  {
   "cell_type": "markdown",
   "metadata": {},
   "source": [
    "Sabe-se que os dados do DataFrame \"demo\" já estão todos tratados para se utilizar na análise. Contudo, essa nova base de dados \"pag\" não foi verificada se necessita de limpeza. Foi observado que o DataFrame \"pag\" possui 9424 registros, enquanto o DataFrame \"demo\" possui apenas 4800 registros. Então, faz muito mais sentido fazer a junção das tabelas, antes mesmo de verificar as irregularidades do DataFrame \"pag\", visto que não serão utilizados todos os dados, logo, não necessita de limpeza em toda base. "
   ]
  },
  {
   "cell_type": "code",
   "execution_count": 284,
   "metadata": {},
   "outputs": [],
   "source": [
    "df_unido = pd.merge(demo, pag, how='left', on='SEQN')"
   ]
  },
  {
   "cell_type": "markdown",
   "metadata": {},
   "source": [
    "## **Limpeza de Dados** - Pag"
   ]
  },
  {
   "cell_type": "code",
   "execution_count": 285,
   "metadata": {},
   "outputs": [
    {
     "data": {
      "text/plain": [
       "SEQN                        0.000000\n",
       "DPQ010                      0.000000\n",
       "DPQ020                      0.000000\n",
       "DPQ030                      0.000000\n",
       "DPQ040                      0.000000\n",
       "DPQ050                      0.000000\n",
       "DPQ060                      0.000000\n",
       "DPQ070                      0.000000\n",
       "DPQ080                      0.000000\n",
       "DPQ090                      0.000000\n",
       "RIAGENDR                    0.000000\n",
       "RIDAGEYR                    0.000000\n",
       "RIDRETH1                    0.000000\n",
       "DMDEDUC                     0.000000\n",
       "INDFMINC                    0.000000\n",
       "DPQ_SCORE                   0.000000\n",
       "DEPRESSION_CATEGORY         0.000000\n",
       "ausente_DPQ_SCORE           0.000000\n",
       "PAG_MINW                    0.000000\n",
       "ADHERENCE                   0.000000\n",
       "HEI2015C1_TOTALVEG          2.041667\n",
       "HEI2015C2_GREEN_AND_BEAN    2.041667\n",
       "HEI2015C3_TOTALFRUIT        2.041667\n",
       "HEI2015C4_WHOLEFRUIT        2.041667\n",
       "HEI2015C5_WHOLEGRAIN        2.041667\n",
       "HEI2015C6_TOTALDAIRY        2.041667\n",
       "HEI2015C7_TOTPROT           2.041667\n",
       "HEI2015C8_SEAPLANT_PROT     2.041667\n",
       "HEI2015C9_FATTYACID         2.041667\n",
       "HEI2015C10_SODIUM           2.041667\n",
       "HEI2015C11_REFINEDGRAIN     2.041667\n",
       "HEI2015C12_SFAT             2.041667\n",
       "HEI2015C13_ADDSUG           2.041667\n",
       "HEI2015_TOTAL_SCORE         2.041667\n",
       "dtype: float64"
      ]
     },
     "execution_count": 285,
     "metadata": {},
     "output_type": "execute_result"
    }
   ],
   "source": [
    "df_unido.isnull().sum() / len(df_unido) * 100"
   ]
  },
  {
   "cell_type": "markdown",
   "metadata": {},
   "source": [
    "Após a junção dos DataFrames foi observado uma quantidade extremamente baixa de valores ausentes, por não possuir uma quantidade alta, serão removidos os valores ausentes. "
   ]
  },
  {
   "cell_type": "code",
   "execution_count": 286,
   "metadata": {},
   "outputs": [],
   "source": [
    "df_unido.dropna(inplace=True)"
   ]
  },
  {
   "cell_type": "markdown",
   "metadata": {},
   "source": [
    "## **Análise Exploratória Univariada**"
   ]
  },
  {
   "cell_type": "markdown",
   "metadata": {},
   "source": [
    "### **Variáveis Categóricas**"
   ]
  },
  {
   "cell_type": "code",
   "execution_count": 287,
   "metadata": {},
   "outputs": [
    {
     "data": {
      "text/html": [
       "<div>\n",
       "<style scoped>\n",
       "    .dataframe tbody tr th:only-of-type {\n",
       "        vertical-align: middle;\n",
       "    }\n",
       "\n",
       "    .dataframe tbody tr th {\n",
       "        vertical-align: top;\n",
       "    }\n",
       "\n",
       "    .dataframe thead th {\n",
       "        text-align: right;\n",
       "    }\n",
       "</style>\n",
       "<table border=\"1\" class=\"dataframe\">\n",
       "  <thead>\n",
       "    <tr style=\"text-align: right;\">\n",
       "      <th></th>\n",
       "      <th>SEQN</th>\n",
       "      <th>DPQ010</th>\n",
       "      <th>DPQ020</th>\n",
       "      <th>DPQ030</th>\n",
       "      <th>DPQ040</th>\n",
       "      <th>DPQ050</th>\n",
       "      <th>DPQ060</th>\n",
       "      <th>DPQ070</th>\n",
       "      <th>DPQ080</th>\n",
       "      <th>DPQ090</th>\n",
       "      <th>...</th>\n",
       "      <th>HEI2015C5_WHOLEGRAIN</th>\n",
       "      <th>HEI2015C6_TOTALDAIRY</th>\n",
       "      <th>HEI2015C7_TOTPROT</th>\n",
       "      <th>HEI2015C8_SEAPLANT_PROT</th>\n",
       "      <th>HEI2015C9_FATTYACID</th>\n",
       "      <th>HEI2015C10_SODIUM</th>\n",
       "      <th>HEI2015C11_REFINEDGRAIN</th>\n",
       "      <th>HEI2015C12_SFAT</th>\n",
       "      <th>HEI2015C13_ADDSUG</th>\n",
       "      <th>HEI2015_TOTAL_SCORE</th>\n",
       "    </tr>\n",
       "  </thead>\n",
       "  <tbody>\n",
       "    <tr>\n",
       "      <th>0</th>\n",
       "      <td>31131</td>\n",
       "      <td>0.0</td>\n",
       "      <td>0.0</td>\n",
       "      <td>0.0</td>\n",
       "      <td>0.0</td>\n",
       "      <td>0.0</td>\n",
       "      <td>0.0</td>\n",
       "      <td>0.0</td>\n",
       "      <td>0.0</td>\n",
       "      <td>0.0</td>\n",
       "      <td>...</td>\n",
       "      <td>0.000000</td>\n",
       "      <td>3.141062</td>\n",
       "      <td>4.071959</td>\n",
       "      <td>2.052399</td>\n",
       "      <td>0.684985</td>\n",
       "      <td>2.297100</td>\n",
       "      <td>9.512964</td>\n",
       "      <td>0.438428</td>\n",
       "      <td>3.919226</td>\n",
       "      <td>35.553899</td>\n",
       "    </tr>\n",
       "    <tr>\n",
       "      <th>1</th>\n",
       "      <td>31132</td>\n",
       "      <td>0.0</td>\n",
       "      <td>0.0</td>\n",
       "      <td>0.0</td>\n",
       "      <td>0.0</td>\n",
       "      <td>0.0</td>\n",
       "      <td>0.0</td>\n",
       "      <td>0.0</td>\n",
       "      <td>0.0</td>\n",
       "      <td>0.0</td>\n",
       "      <td>...</td>\n",
       "      <td>5.000000</td>\n",
       "      <td>4.448512</td>\n",
       "      <td>5.000000</td>\n",
       "      <td>0.000000</td>\n",
       "      <td>2.050769</td>\n",
       "      <td>7.369489</td>\n",
       "      <td>8.887880</td>\n",
       "      <td>8.186877</td>\n",
       "      <td>9.099088</td>\n",
       "      <td>63.551696</td>\n",
       "    </tr>\n",
       "    <tr>\n",
       "      <th>2</th>\n",
       "      <td>31134</td>\n",
       "      <td>0.0</td>\n",
       "      <td>0.0</td>\n",
       "      <td>0.0</td>\n",
       "      <td>0.0</td>\n",
       "      <td>0.0</td>\n",
       "      <td>0.0</td>\n",
       "      <td>0.0</td>\n",
       "      <td>0.0</td>\n",
       "      <td>0.0</td>\n",
       "      <td>...</td>\n",
       "      <td>2.217331</td>\n",
       "      <td>2.313900</td>\n",
       "      <td>5.000000</td>\n",
       "      <td>1.268648</td>\n",
       "      <td>2.958985</td>\n",
       "      <td>0.000000</td>\n",
       "      <td>5.627488</td>\n",
       "      <td>5.863078</td>\n",
       "      <td>5.878686</td>\n",
       "      <td>42.886826</td>\n",
       "    </tr>\n",
       "    <tr>\n",
       "      <th>3</th>\n",
       "      <td>31139</td>\n",
       "      <td>0.0</td>\n",
       "      <td>0.0</td>\n",
       "      <td>0.0</td>\n",
       "      <td>0.0</td>\n",
       "      <td>3.0</td>\n",
       "      <td>1.0</td>\n",
       "      <td>0.0</td>\n",
       "      <td>0.0</td>\n",
       "      <td>0.0</td>\n",
       "      <td>...</td>\n",
       "      <td>0.211544</td>\n",
       "      <td>0.000000</td>\n",
       "      <td>4.088849</td>\n",
       "      <td>4.221442</td>\n",
       "      <td>10.000000</td>\n",
       "      <td>2.845774</td>\n",
       "      <td>0.000000</td>\n",
       "      <td>10.000000</td>\n",
       "      <td>9.658507</td>\n",
       "      <td>47.074393</td>\n",
       "    </tr>\n",
       "    <tr>\n",
       "      <th>4</th>\n",
       "      <td>31143</td>\n",
       "      <td>0.0</td>\n",
       "      <td>1.0</td>\n",
       "      <td>1.0</td>\n",
       "      <td>1.0</td>\n",
       "      <td>1.0</td>\n",
       "      <td>1.0</td>\n",
       "      <td>1.0</td>\n",
       "      <td>0.0</td>\n",
       "      <td>0.0</td>\n",
       "      <td>...</td>\n",
       "      <td>1.444002</td>\n",
       "      <td>5.000000</td>\n",
       "      <td>3.372033</td>\n",
       "      <td>0.000000</td>\n",
       "      <td>0.002362</td>\n",
       "      <td>5.223435</td>\n",
       "      <td>7.787420</td>\n",
       "      <td>0.000000</td>\n",
       "      <td>10.000000</td>\n",
       "      <td>46.086131</td>\n",
       "    </tr>\n",
       "    <tr>\n",
       "      <th>...</th>\n",
       "      <td>...</td>\n",
       "      <td>...</td>\n",
       "      <td>...</td>\n",
       "      <td>...</td>\n",
       "      <td>...</td>\n",
       "      <td>...</td>\n",
       "      <td>...</td>\n",
       "      <td>...</td>\n",
       "      <td>...</td>\n",
       "      <td>...</td>\n",
       "      <td>...</td>\n",
       "      <td>...</td>\n",
       "      <td>...</td>\n",
       "      <td>...</td>\n",
       "      <td>...</td>\n",
       "      <td>...</td>\n",
       "      <td>...</td>\n",
       "      <td>...</td>\n",
       "      <td>...</td>\n",
       "      <td>...</td>\n",
       "      <td>...</td>\n",
       "    </tr>\n",
       "    <tr>\n",
       "      <th>4795</th>\n",
       "      <td>41466</td>\n",
       "      <td>0.0</td>\n",
       "      <td>0.0</td>\n",
       "      <td>1.0</td>\n",
       "      <td>1.0</td>\n",
       "      <td>0.0</td>\n",
       "      <td>0.0</td>\n",
       "      <td>0.0</td>\n",
       "      <td>0.0</td>\n",
       "      <td>0.0</td>\n",
       "      <td>...</td>\n",
       "      <td>4.607930</td>\n",
       "      <td>2.555736</td>\n",
       "      <td>5.000000</td>\n",
       "      <td>4.672204</td>\n",
       "      <td>4.633477</td>\n",
       "      <td>0.000000</td>\n",
       "      <td>6.580006</td>\n",
       "      <td>8.393244</td>\n",
       "      <td>9.360990</td>\n",
       "      <td>59.949915</td>\n",
       "    </tr>\n",
       "    <tr>\n",
       "      <th>4796</th>\n",
       "      <td>41468</td>\n",
       "      <td>0.0</td>\n",
       "      <td>2.0</td>\n",
       "      <td>0.0</td>\n",
       "      <td>1.0</td>\n",
       "      <td>1.0</td>\n",
       "      <td>2.0</td>\n",
       "      <td>1.0</td>\n",
       "      <td>3.0</td>\n",
       "      <td>0.0</td>\n",
       "      <td>...</td>\n",
       "      <td>3.041603</td>\n",
       "      <td>5.000000</td>\n",
       "      <td>3.759596</td>\n",
       "      <td>2.344264</td>\n",
       "      <td>4.780282</td>\n",
       "      <td>3.134216</td>\n",
       "      <td>1.986137</td>\n",
       "      <td>5.850269</td>\n",
       "      <td>10.000000</td>\n",
       "      <td>57.747869</td>\n",
       "    </tr>\n",
       "    <tr>\n",
       "      <th>4797</th>\n",
       "      <td>41469</td>\n",
       "      <td>1.0</td>\n",
       "      <td>0.0</td>\n",
       "      <td>0.0</td>\n",
       "      <td>1.0</td>\n",
       "      <td>0.0</td>\n",
       "      <td>0.0</td>\n",
       "      <td>0.0</td>\n",
       "      <td>0.0</td>\n",
       "      <td>0.0</td>\n",
       "      <td>...</td>\n",
       "      <td>0.000000</td>\n",
       "      <td>2.151846</td>\n",
       "      <td>5.000000</td>\n",
       "      <td>0.000000</td>\n",
       "      <td>9.344947</td>\n",
       "      <td>3.535211</td>\n",
       "      <td>4.326307</td>\n",
       "      <td>5.269780</td>\n",
       "      <td>8.195564</td>\n",
       "      <td>42.993323</td>\n",
       "    </tr>\n",
       "    <tr>\n",
       "      <th>4798</th>\n",
       "      <td>41472</td>\n",
       "      <td>0.0</td>\n",
       "      <td>0.0</td>\n",
       "      <td>0.0</td>\n",
       "      <td>0.0</td>\n",
       "      <td>0.0</td>\n",
       "      <td>0.0</td>\n",
       "      <td>0.0</td>\n",
       "      <td>0.0</td>\n",
       "      <td>0.0</td>\n",
       "      <td>...</td>\n",
       "      <td>0.933303</td>\n",
       "      <td>5.000000</td>\n",
       "      <td>5.000000</td>\n",
       "      <td>5.000000</td>\n",
       "      <td>2.090534</td>\n",
       "      <td>8.409844</td>\n",
       "      <td>8.936854</td>\n",
       "      <td>3.063795</td>\n",
       "      <td>0.000000</td>\n",
       "      <td>46.134467</td>\n",
       "    </tr>\n",
       "    <tr>\n",
       "      <th>4799</th>\n",
       "      <td>41473</td>\n",
       "      <td>0.0</td>\n",
       "      <td>0.0</td>\n",
       "      <td>2.0</td>\n",
       "      <td>1.0</td>\n",
       "      <td>0.0</td>\n",
       "      <td>1.0</td>\n",
       "      <td>0.0</td>\n",
       "      <td>0.0</td>\n",
       "      <td>0.0</td>\n",
       "      <td>...</td>\n",
       "      <td>0.000000</td>\n",
       "      <td>5.000000</td>\n",
       "      <td>5.000000</td>\n",
       "      <td>5.000000</td>\n",
       "      <td>0.000000</td>\n",
       "      <td>7.458058</td>\n",
       "      <td>10.000000</td>\n",
       "      <td>1.676912</td>\n",
       "      <td>2.751168</td>\n",
       "      <td>45.793478</td>\n",
       "    </tr>\n",
       "  </tbody>\n",
       "</table>\n",
       "<p>4702 rows × 34 columns</p>\n",
       "</div>"
      ],
      "text/plain": [
       "       SEQN  DPQ010  DPQ020  DPQ030  DPQ040  DPQ050  DPQ060  DPQ070  DPQ080  \\\n",
       "0     31131     0.0     0.0     0.0     0.0     0.0     0.0     0.0     0.0   \n",
       "1     31132     0.0     0.0     0.0     0.0     0.0     0.0     0.0     0.0   \n",
       "2     31134     0.0     0.0     0.0     0.0     0.0     0.0     0.0     0.0   \n",
       "3     31139     0.0     0.0     0.0     0.0     3.0     1.0     0.0     0.0   \n",
       "4     31143     0.0     1.0     1.0     1.0     1.0     1.0     1.0     0.0   \n",
       "...     ...     ...     ...     ...     ...     ...     ...     ...     ...   \n",
       "4795  41466     0.0     0.0     1.0     1.0     0.0     0.0     0.0     0.0   \n",
       "4796  41468     0.0     2.0     0.0     1.0     1.0     2.0     1.0     3.0   \n",
       "4797  41469     1.0     0.0     0.0     1.0     0.0     0.0     0.0     0.0   \n",
       "4798  41472     0.0     0.0     0.0     0.0     0.0     0.0     0.0     0.0   \n",
       "4799  41473     0.0     0.0     2.0     1.0     0.0     1.0     0.0     0.0   \n",
       "\n",
       "      DPQ090  ...  HEI2015C5_WHOLEGRAIN  HEI2015C6_TOTALDAIRY  \\\n",
       "0        0.0  ...              0.000000              3.141062   \n",
       "1        0.0  ...              5.000000              4.448512   \n",
       "2        0.0  ...              2.217331              2.313900   \n",
       "3        0.0  ...              0.211544              0.000000   \n",
       "4        0.0  ...              1.444002              5.000000   \n",
       "...      ...  ...                   ...                   ...   \n",
       "4795     0.0  ...              4.607930              2.555736   \n",
       "4796     0.0  ...              3.041603              5.000000   \n",
       "4797     0.0  ...              0.000000              2.151846   \n",
       "4798     0.0  ...              0.933303              5.000000   \n",
       "4799     0.0  ...              0.000000              5.000000   \n",
       "\n",
       "      HEI2015C7_TOTPROT  HEI2015C8_SEAPLANT_PROT  HEI2015C9_FATTYACID  \\\n",
       "0              4.071959                 2.052399             0.684985   \n",
       "1              5.000000                 0.000000             2.050769   \n",
       "2              5.000000                 1.268648             2.958985   \n",
       "3              4.088849                 4.221442            10.000000   \n",
       "4              3.372033                 0.000000             0.002362   \n",
       "...                 ...                      ...                  ...   \n",
       "4795           5.000000                 4.672204             4.633477   \n",
       "4796           3.759596                 2.344264             4.780282   \n",
       "4797           5.000000                 0.000000             9.344947   \n",
       "4798           5.000000                 5.000000             2.090534   \n",
       "4799           5.000000                 5.000000             0.000000   \n",
       "\n",
       "      HEI2015C10_SODIUM  HEI2015C11_REFINEDGRAIN  HEI2015C12_SFAT  \\\n",
       "0              2.297100                 9.512964         0.438428   \n",
       "1              7.369489                 8.887880         8.186877   \n",
       "2              0.000000                 5.627488         5.863078   \n",
       "3              2.845774                 0.000000        10.000000   \n",
       "4              5.223435                 7.787420         0.000000   \n",
       "...                 ...                      ...              ...   \n",
       "4795           0.000000                 6.580006         8.393244   \n",
       "4796           3.134216                 1.986137         5.850269   \n",
       "4797           3.535211                 4.326307         5.269780   \n",
       "4798           8.409844                 8.936854         3.063795   \n",
       "4799           7.458058                10.000000         1.676912   \n",
       "\n",
       "      HEI2015C13_ADDSUG  HEI2015_TOTAL_SCORE  \n",
       "0              3.919226            35.553899  \n",
       "1              9.099088            63.551696  \n",
       "2              5.878686            42.886826  \n",
       "3              9.658507            47.074393  \n",
       "4             10.000000            46.086131  \n",
       "...                 ...                  ...  \n",
       "4795           9.360990            59.949915  \n",
       "4796          10.000000            57.747869  \n",
       "4797           8.195564            42.993323  \n",
       "4798           0.000000            46.134467  \n",
       "4799           2.751168            45.793478  \n",
       "\n",
       "[4702 rows x 34 columns]"
      ]
     },
     "execution_count": 287,
     "metadata": {},
     "output_type": "execute_result"
    }
   ],
   "source": [
    "df_unido"
   ]
  },
  {
   "cell_type": "code",
   "execution_count": 288,
   "metadata": {},
   "outputs": [
    {
     "data": {
      "image/png": "[encoded data removed]",
      "text/plain": [
       "<Figure size 1000x500 with 1 Axes>"
      ]
     },
     "metadata": {},
     "output_type": "display_data"
    }
   ],
   "source": [
    "# Definindo o tamanho da figura\n",
    "plt.figure(figsize=(10,5))\n",
    "\n",
    "# Plotar o gráfico de barras com rótulos personalizados\n",
    "grafico = sns.countplot(x='RIAGENDR', data=df_unido, hue='RIAGENDR', legend= False)\n",
    "\n",
    "# Definindo os rótulos formatados para os ticks do eixo x\n",
    "plt.xticks([0, 1], ['Masculino', 'Feminino'])\n",
    "\n",
    "# Definindo o título\n",
    "grafico.set_title('Contagem de Pessoas Por Gênero')\n",
    "\n",
    "# Definindo a legenda do eixo x\n",
    "plt.xlabel('Gênero')\n",
    "\n",
    "# Definindo legenda para o eixo y\n",
    "plt.ylabel('Contagem de Pessoas')\n",
    "\n",
    "# Remove a borda da direita\n",
    "sns.despine(right=True)\n"
   ]
  },
  {
   "cell_type": "markdown",
   "metadata": {},
   "source": [
    "A quantidade de pessoas de ambos os gêneros são semelhantes, porém o gênero feminino apresenta uma quantidade superior."
   ]
  },
  {
   "cell_type": "code",
   "execution_count": 289,
   "metadata": {},
   "outputs": [
    {
     "data": {
      "image/png": "[encoded data removed]",
      "text/plain": [
       "<Figure size 1000x500 with 1 Axes>"
      ]
     },
     "metadata": {},
     "output_type": "display_data"
    }
   ],
   "source": [
    "# Contar as ocorrências de cada valor em 'RIDRETH1' e ordenar de forma decrescente\n",
    "ordem = df_unido['RIDRETH1'].value_counts().index\n",
    "\n",
    "# Mapear os valores únicos de 'RIDRETH1' para as etnias correspondentes\n",
    "etinia = {\n",
    "    1: 'Branco não-hispânico',\n",
    "    2: 'Negro não-hispânico',\n",
    "    3: 'Mexicano-americano',\n",
    "    4: 'Outro',\n",
    "    5: 'Outro - Hispânico'\n",
    "}\n",
    "\n",
    "# Criar uma lista de rótulos com apenas as etnias\n",
    "formatar_labels = [etinia[value] for value in ordem]\n",
    "\n",
    "# Definindo o tamanho da figura\n",
    "plt.figure(figsize=(10,5))\n",
    "\n",
    "# Plotar o gráfico de barras com os valores ordenados\n",
    "grafico = sns.countplot(x='RIDRETH1', data=df_unido, hue='RIDRETH1', order=ordem, palette=\"Set2\", legend=False)\n",
    "\n",
    "# Alterando o título\n",
    "grafico.set_title('Contagem de Pessoas Por Etinia')\n",
    "\n",
    "# Adicionando legenda no eixo x\n",
    "plt.xlabel('Etinia')\n",
    "\n",
    "# Adicionando legenda no eixo y\n",
    "plt.ylabel('Contagem de Pessoas')\n",
    "\n",
    "# Definindo os rótulos formatados para os ticks do eixo x\n",
    "plt.xticks(ticks= range(len(ordem)), labels= formatar_labels, rotation= 45, ha= 'right')\n",
    "\n",
    "# Removendo as bordas à direta\n",
    "sns.despine(right= True)"
   ]
  },
  {
   "cell_type": "markdown",
   "metadata": {},
   "source": [
    "Existe uma quantidade bem maior de pessoas consideradas Mexicano-americano."
   ]
  },
  {
   "cell_type": "code",
   "execution_count": 290,
   "metadata": {},
   "outputs": [
    {
     "data": {
      "image/png": "[encoded data removed]",
      "text/plain": [
       "<Figure size 1000x500 with 1 Axes>"
      ]
     },
     "metadata": {},
     "output_type": "display_data"
    }
   ],
   "source": [
    "# Criando um dicionário com os valores correspondentes de escolaridade\n",
    "escolaridade = {\n",
    "    1: 'Menor que 9º ano',\n",
    "    2: '9-12º ano',\n",
    "    3: 'Ensino médio',\n",
    "    4: 'Ensino superior incompleto',\n",
    "    5: 'Superior completo ou maior',\n",
    "    7: 'Se recusou a responder',\n",
    "    9: 'Não sabe'\n",
    "\n",
    "}\n",
    "\n",
    "# Obetendo a ordem decrescente dos níveis de escolaridade\n",
    "ordem =  df_unido['DMDEDUC'].value_counts().index\n",
    "\n",
    "# Buscando em ordem as escolaridades\n",
    "formatar_labels = [escolaridade[value] for value in ordem]\n",
    "\n",
    "# Adicionando um tamanho à figura\n",
    "plt.figure(figsize=(10, 5))\n",
    "\n",
    "# Adicionando Título\n",
    "plt.title('Contagem de Pessoas Por Grau de Escolaridade')\n",
    "\n",
    "# Legenda do eixo x\n",
    "plt.xlabel('Grau de Escolaridade')\n",
    "\n",
    "# Legenda do eixo y\n",
    "plt.ylabel('Contagem de Pessoas')\n",
    "\n",
    "# Criando o gráfico\n",
    "grafico = sns.countplot(x='DMDEDUC', data=df_unido, hue='DMDEDUC', order=ordem, palette=\"Set2\", legend=False)\n",
    "\n",
    "# Definir os rótulos formatados para os ticks do eixo x\n",
    "plt.xticks(ticks=range(len(ordem)), labels=formatar_labels, rotation= 45, ha='right')\n",
    "\n",
    "# Removendo as bordas à direta\n",
    "sns.despine(right= True)"
   ]
  },
  {
   "cell_type": "markdown",
   "metadata": {},
   "source": [
    "A maior parte dos entrevistados possui ensino superior incompleto."
   ]
  },
  {
   "cell_type": "markdown",
   "metadata": {},
   "source": [
    "   * **Descrição:** Renda anual familiar (US$)\n",
    "    * **Valores:**\n",
    "        * 1: 0-4999\n",
    "        * 2: 5000-9999\n",
    "        * 3: 10000-14999\n",
    "        * 4: 15000-19999\n",
    "        * 5: 20000-24999\n",
    "        * 6: 25000-34999\n",
    "        * 7: 35000-44999\n",
    "        * 8: 45000-54999\n",
    "        * 9: 55000-64999\n",
    "        * 10: 65000-74999\n",
    "        * 11: Maior ou igual a 75000\n",
    "        * 12: Maior que 20000\n",
    "        * 13: Menor que 20000\n",
    "        * 77: Se recusou a responder\n",
    "        * 99: Não sabe\n",
    "\n",
    "\n",
    "        rendas = {\n",
    "    1: 'Baixo',\n",
    "    2: 'Baixo',\n",
    "    3: 'Baixo',\n",
    "    4: 'Baixo',\n",
    "    5: 'Baixo',\n",
    "    6: 'Médio',\n",
    "    7: 'Médio',\n",
    "    8: 'Médio',\n",
    "    9: 'Alto',\n",
    "    10: 'Alto',\n",
    "    11: 'Alto',\n",
    "    12: 'Indefinido',\n",
    "    13: 'Baixo',\n",
    "    77: 'Indefinido',\n",
    "    99: 'Indefinido'\n",
    "}"
   ]
  },
  {
   "cell_type": "code",
   "execution_count": 291,
   "metadata": {},
   "outputs": [],
   "source": [
    "# Criando uma função para categorizar os salários em Baixo, Médio e Alto\n",
    "def categorizar_salario(salario):\n",
    "\n",
    "    if salario in [1, 2, 3, 4, 5, 13]:\n",
    "        return 'Baixo'\n",
    "    elif salario in [6, 7, 8]:\n",
    "        return 'Médio'\n",
    "    elif salario in [9, 10, 11]:\n",
    "        return 'Alto'\n",
    "    else: # 12, 77, 99\n",
    "        return 'Indefinido'\n"
   ]
  },
  {
   "cell_type": "code",
   "execution_count": 292,
   "metadata": {},
   "outputs": [],
   "source": [
    "# Aplicando a função na coluna INDFMINC\n",
    "df_unido['INDFMINC'] = df_unido['INDFMINC'].apply(categorizar_salario)"
   ]
  },
  {
   "cell_type": "code",
   "execution_count": 293,
   "metadata": {},
   "outputs": [
    {
     "data": {
      "image/png": "[encoded data removed]",
      "text/plain": [
       "<Figure size 1000x500 with 1 Axes>"
      ]
     },
     "metadata": {},
     "output_type": "display_data"
    }
   ],
   "source": [
    "# Variável para ordenar de forma decrescente\n",
    "ordem = df_unido['INDFMINC'].value_counts().index\n",
    "\n",
    "# Definindo o tamanho\n",
    "plt.figure(figsize=(10,5))\n",
    "\n",
    "# Criando gráfico\n",
    "grafico = sns.countplot(x='INDFMINC', data=df_unido, hue='INDFMINC', order=ordem)\n",
    "\n",
    "# Definindo o título\n",
    "plt.title('Renda Familiar Anual (U$) Por Faixas')\n",
    "\n",
    "# Legenda eixo x\n",
    "plt.xlabel('Categoria de Salário')\n",
    "\n",
    "# Legenda eixo y\n",
    "plt.ylabel('Contagem de Pessoas')\n",
    "\n",
    "# Removendo as bordas à direita\n",
    "sns.despine(right= True)\n"
   ]
  },
  {
   "cell_type": "markdown",
   "metadata": {},
   "source": [
    "Possui-se uma quantidade equilibrada de renda, entre: baixa, média e alta."
   ]
  }
 ],
 "metadata": {
  "kernelspec": {
   "display_name": "venv",
   "language": "python",
   "name": "python3"
  },
  "language_info": {
   "codemirror_mode": {
    "name": "ipython",
    "version": 3
   },
   "file_extension": ".py",
   "mimetype": "text/x-python",
   "name": "python",
   "nbconvert_exporter": "python",
   "pygments_lexer": "ipython3",
   "version": "3.10.7"
  },
  "orig_nbformat": 4
 },
 "nbformat": 4,
 "nbformat_minor": 2
}
