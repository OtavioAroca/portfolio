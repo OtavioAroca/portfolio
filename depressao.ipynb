{
 "cells": [
  {
   "cell_type": "markdown",
   "metadata": {},
   "source": [
    "Qual o perfil de indivíduos (adultos maiores de 18 anos) com sintomas\n",
    "depressivos nos EUA no período de 2005-2006?\n",
    "\n",
    "Hábitos saudáveis de alimentação e atividade física estão associados a\n",
    "menores índices de depressão nesta população?"
   ]
  },
  {
   "cell_type": "markdown",
   "metadata": {},
   "source": [
    "# **Importações**"
   ]
  },
  {
   "cell_type": "code",
   "execution_count": 1,
   "metadata": {},
   "outputs": [],
   "source": [
    "import pandas as pd\n",
    "import matplotlib.pyplot as plt\n",
    "import seaborn as sns\n",
    "import numpy as np\n",
    "from scipy.stats import kendalltau, spearmanr"
   ]
  },
  {
   "cell_type": "markdown",
   "metadata": {},
   "source": [
    "# **Conhecendo o DataFrame - Demo**"
   ]
  },
  {
   "cell_type": "code",
   "execution_count": 2,
   "metadata": {},
   "outputs": [],
   "source": [
    "demo = pd.read_csv('/Users/joaoaroca/Documents/Portfólio/depressao/portfolio/DEMO_PHQ.csv')"
   ]
  },
  {
   "cell_type": "markdown",
   "metadata": {},
   "source": [
    "## **Dicionário das Variáveis**"
   ]
  },
  {
   "cell_type": "markdown",
   "metadata": {},
   "source": [
    "* **SEQN:** Identificador único do respondente.\n",
    "\n",
    "* **DPQ010:**\n",
    "\n",
    "    * **Descrição:** Nas últimas 2 semanas, com que frequência você ficou incomodado por ter pouco interesse ou pouco prazer em fazer as coisas?\n",
    "\n",
    "    * **Valores:**\n",
    "        * 0: Nenhuma vez\n",
    "        * 1: Menos de uma semana\n",
    "        * 2: Uma semana ou mais\n",
    "        * 3: Quase todos os dias\n",
    "        * 7: Se recusou a responder\n",
    "        * 9: Não sabe\n",
    "\n",
    "* **DPQ020:**\n",
    "\n",
    "    * **Descrição:** Nas últimas 2 semanas, com que frequência você se sentiu para baixo, deprimido(a) ou sem perspectiva?\n",
    "    \n",
    "    * **Valores:** \n",
    "        * 0: Nenhuma vez\n",
    "        * 1: Menos de uma semana\n",
    "        * 2: Uma semana ou mais\n",
    "        * 3: Quase todos os dias\n",
    "        * 7: Se recusou a responder\n",
    "        * 9: Não sabe\n",
    "* **DPQ030:**\n",
    "\n",
    "    * **Descrição:** Nas últimas 2 semanas, com que frequência você teve dificuldade para pegar no sono ou permanecer dormindo ou dormiu mais do que o costume?\n",
    "    \n",
    "    * **Valores:** \n",
    "        * 0: Nenhuma vez\n",
    "        * 1: Menos de uma semana\n",
    "        * 2: Uma semana ou mais\n",
    "        * 3: Quase todos os dias\n",
    "        * 7: Se recusou a responder\n",
    "        * 9: Não sabe\n",
    "* **DPQ040:**\n",
    "\n",
    "    * **Descrição:** Nas últimas 2 semanas, com que frequência você se sentiu cansado(a) ou com pouca energia?\n",
    "    \n",
    "    * **Valores:** \n",
    "        * 0: Nenhuma vez\n",
    "        * 1: Menos de uma semana\n",
    "        * 2: Uma semana ou mais\n",
    "        * 3: Quase todos os dias\n",
    "        * 7: Se recusou a responder\n",
    "        * 9: Não sabe\n",
    "\n",
    "* **DPQ050:**\n",
    "\n",
    "    * **Descrição:** Nas últimas 2 semanas, com que frequência você sentiu falta de apetite ou comeu demais?\n",
    "    \n",
    "    * **Valores:** \n",
    "        * 0: Nenhuma vez\n",
    "        * 1: Menos de uma semana\n",
    "        * 2: Uma semana ou mais\n",
    "        * 3: Quase todos os dias\n",
    "        * 7: Se recusou a responder\n",
    "        * 9: Não sabe\n",
    "\n",
    "* **DPQ060**:\n",
    "\n",
    "    * **Descrição:** Nas últimas 2 semanas, com que frequência você se sentiu mal consigo mesmo(a) ou achou que é um fracasso ou que decepcionou sua família ou a você mesmo(a)?\n",
    "    \n",
    "    * **Valores:** \n",
    "        * 0: Nenhuma vez\n",
    "        * 1: Menos de uma semana\n",
    "        * 2: Uma semana ou mais\n",
    "        * 3: Quase todos os dias\n",
    "        * 7: Se recusou a responder\n",
    "        * 9: Não sabe\n",
    "* **DPQ070:**\n",
    "\n",
    "    * **Descrição:** Nas últimas 2 semanas, com que frequência você teve dificuldade para se concentrar nas coisas (como ler o jornal ou ver televisão)?\n",
    "    \n",
    "    * **Valores:** \n",
    "        * 0: Nenhuma vez\n",
    "        * 1: Menos de uma semana\n",
    "        * 2: Uma semana ou mais\n",
    "        * 3: Quase todos os dias\n",
    "        * 7: Se recusou a responder\n",
    "        * 9: Não sabe\n",
    "\n",
    "* **DPQ080:**\n",
    "\n",
    "    * **Descrição:** Nas últimas 2 semanas, com que frequência você teve lentidão para se movimentar ou falar (a ponto de outras pessoas perceberem), ou ao contrário, esteve tão agitado(a) que você ficava andando de um lado para o outro mais do que costume?\n",
    "    \n",
    "    * **Valores:** \n",
    "        * 0: Nenhuma vez\n",
    "        * 1: Menos de uma semana\n",
    "        * 2: Uma semana ou mais\n",
    "        * 3: Quase todos os dias\n",
    "        * 7: Se recusou a responder\n",
    "        * 9: Não sabe\n",
    "\n",
    "* **DPQ090:**\n",
    "\n",
    "    * **Descrição:** Nas últimas 2 semanas, com que frequência você pensou em se ferir de alguma maneira ou que seria melhor estar morto(a)?\n",
    "    \n",
    "    * **Valores:** \n",
    "        * 0: Nenhuma vez\n",
    "        * 1: Menos de uma semana\n",
    "        * 2: Uma semana ou mais\n",
    "        * 3: Quase todos os dias\n",
    "        * 7: Se recusou a responder\n",
    "        * 9: Não sabe\n",
    "\n",
    "* **RIAGENDR:**\n",
    "\n",
    "    * **Descrição:** Gênero\n",
    "    * **Valores:**\n",
    "        * 1: Masculino\n",
    "        * 2: Feminino\n",
    "\n",
    "* **RIDAGEYR:**\n",
    "\n",
    "    * **Descrição:** Idade em anos\n",
    "\n",
    "* **RIDRETH1:**\n",
    "\n",
    "    * **Descrição:** Raça/Etnia\n",
    "    * **Valores:**\n",
    "\n",
    "        * 1: Branco não-hispânico\n",
    "        * 2: Negro não-hispânico\n",
    "        * 3: Mexicano-americano\n",
    "        * 4: Outro\n",
    "        * 5: Outro - Hispânico\n",
    "\n",
    "* **DMDEDUC:**\n",
    "\n",
    "    * **Descrição:** Escolaridade\n",
    "    * **Valores:**\n",
    "        * 1: Menor que 9o ano\n",
    "        * 2: 9-12o ano\n",
    "        * 3: Ensino médio\n",
    "        * 4: Ensino superior incompleto\n",
    "        * 5: Superior completo ou maior\n",
    "        * 7: Se recusou a responder\n",
    "        * 9: Não sabe\n",
    "\n",
    "* **INDFMINC:**\n",
    "\n",
    "    * **Descrição:** Renda anual familiar (US$)\n",
    "    * **Valores:**\n",
    "        * 1: 0-4999\n",
    "        * 2: 5000-9999\n",
    "        * 3: 10000-14999\n",
    "        * 4: 15000-19999\n",
    "        * 5: 20000-24999\n",
    "        * 6: 25000-34999\n",
    "        * 7: 35000-44999\n",
    "        * 8: 45000-54999\n",
    "        * 9: 55000-64999\n",
    "        * 10: 65000-74999\n",
    "        * 11: Maior ou igual a 75000\n",
    "        * 12: Maior que 20000\n",
    "        * 13: Menor que 20000\n",
    "        * 77: Se recusou a responder\n",
    "        * 99: Não sabe"
   ]
  },
  {
   "cell_type": "code",
   "execution_count": 3,
   "metadata": {},
   "outputs": [
    {
     "data": {
      "text/html": [
       "<div>\n",
       "<style scoped>\n",
       "    .dataframe tbody tr th:only-of-type {\n",
       "        vertical-align: middle;\n",
       "    }\n",
       "\n",
       "    .dataframe tbody tr th {\n",
       "        vertical-align: top;\n",
       "    }\n",
       "\n",
       "    .dataframe thead th {\n",
       "        text-align: right;\n",
       "    }\n",
       "</style>\n",
       "<table border=\"1\" class=\"dataframe\">\n",
       "  <thead>\n",
       "    <tr style=\"text-align: right;\">\n",
       "      <th></th>\n",
       "      <th>SEQN</th>\n",
       "      <th>DPQ010</th>\n",
       "      <th>DPQ020</th>\n",
       "      <th>DPQ030</th>\n",
       "      <th>DPQ040</th>\n",
       "      <th>DPQ050</th>\n",
       "      <th>DPQ060</th>\n",
       "      <th>DPQ070</th>\n",
       "      <th>DPQ080</th>\n",
       "      <th>DPQ090</th>\n",
       "      <th>RIAGENDR</th>\n",
       "      <th>RIDAGEYR</th>\n",
       "      <th>RIDRETH1</th>\n",
       "      <th>DMDEDUC</th>\n",
       "      <th>INDFMINC</th>\n",
       "    </tr>\n",
       "  </thead>\n",
       "  <tbody>\n",
       "    <tr>\n",
       "      <th>0</th>\n",
       "      <td>31130</td>\n",
       "      <td>NaN</td>\n",
       "      <td>NaN</td>\n",
       "      <td>NaN</td>\n",
       "      <td>NaN</td>\n",
       "      <td>NaN</td>\n",
       "      <td>NaN</td>\n",
       "      <td>NaN</td>\n",
       "      <td>NaN</td>\n",
       "      <td>NaN</td>\n",
       "      <td>2</td>\n",
       "      <td>85</td>\n",
       "      <td>3</td>\n",
       "      <td>4</td>\n",
       "      <td>4.0</td>\n",
       "    </tr>\n",
       "    <tr>\n",
       "      <th>1</th>\n",
       "      <td>31131</td>\n",
       "      <td>0.0</td>\n",
       "      <td>0.0</td>\n",
       "      <td>0.0</td>\n",
       "      <td>0.0</td>\n",
       "      <td>0.0</td>\n",
       "      <td>0.0</td>\n",
       "      <td>0.0</td>\n",
       "      <td>0.0</td>\n",
       "      <td>0.0</td>\n",
       "      <td>2</td>\n",
       "      <td>44</td>\n",
       "      <td>4</td>\n",
       "      <td>4</td>\n",
       "      <td>11.0</td>\n",
       "    </tr>\n",
       "    <tr>\n",
       "      <th>2</th>\n",
       "      <td>31132</td>\n",
       "      <td>0.0</td>\n",
       "      <td>0.0</td>\n",
       "      <td>0.0</td>\n",
       "      <td>0.0</td>\n",
       "      <td>0.0</td>\n",
       "      <td>0.0</td>\n",
       "      <td>0.0</td>\n",
       "      <td>0.0</td>\n",
       "      <td>0.0</td>\n",
       "      <td>1</td>\n",
       "      <td>70</td>\n",
       "      <td>3</td>\n",
       "      <td>5</td>\n",
       "      <td>11.0</td>\n",
       "    </tr>\n",
       "    <tr>\n",
       "      <th>3</th>\n",
       "      <td>31134</td>\n",
       "      <td>0.0</td>\n",
       "      <td>0.0</td>\n",
       "      <td>0.0</td>\n",
       "      <td>0.0</td>\n",
       "      <td>0.0</td>\n",
       "      <td>0.0</td>\n",
       "      <td>0.0</td>\n",
       "      <td>0.0</td>\n",
       "      <td>0.0</td>\n",
       "      <td>1</td>\n",
       "      <td>73</td>\n",
       "      <td>3</td>\n",
       "      <td>3</td>\n",
       "      <td>12.0</td>\n",
       "    </tr>\n",
       "    <tr>\n",
       "      <th>4</th>\n",
       "      <td>31139</td>\n",
       "      <td>0.0</td>\n",
       "      <td>0.0</td>\n",
       "      <td>0.0</td>\n",
       "      <td>0.0</td>\n",
       "      <td>3.0</td>\n",
       "      <td>1.0</td>\n",
       "      <td>0.0</td>\n",
       "      <td>0.0</td>\n",
       "      <td>0.0</td>\n",
       "      <td>2</td>\n",
       "      <td>18</td>\n",
       "      <td>2</td>\n",
       "      <td>3</td>\n",
       "      <td>11.0</td>\n",
       "    </tr>\n",
       "  </tbody>\n",
       "</table>\n",
       "</div>"
      ],
      "text/plain": [
       "    SEQN  DPQ010  DPQ020  DPQ030  DPQ040  DPQ050  DPQ060  DPQ070  DPQ080  \\\n",
       "0  31130     NaN     NaN     NaN     NaN     NaN     NaN     NaN     NaN   \n",
       "1  31131     0.0     0.0     0.0     0.0     0.0     0.0     0.0     0.0   \n",
       "2  31132     0.0     0.0     0.0     0.0     0.0     0.0     0.0     0.0   \n",
       "3  31134     0.0     0.0     0.0     0.0     0.0     0.0     0.0     0.0   \n",
       "4  31139     0.0     0.0     0.0     0.0     3.0     1.0     0.0     0.0   \n",
       "\n",
       "   DPQ090  RIAGENDR  RIDAGEYR  RIDRETH1  DMDEDUC  INDFMINC  \n",
       "0     NaN         2        85         3        4       4.0  \n",
       "1     0.0         2        44         4        4      11.0  \n",
       "2     0.0         1        70         3        5      11.0  \n",
       "3     0.0         1        73         3        3      12.0  \n",
       "4     0.0         2        18         2        3      11.0  "
      ]
     },
     "execution_count": 3,
     "metadata": {},
     "output_type": "execute_result"
    }
   ],
   "source": [
    "# Verificando as primeiras linhas do DataFrame\n",
    "demo.head()"
   ]
  },
  {
   "cell_type": "code",
   "execution_count": 4,
   "metadata": {},
   "outputs": [
    {
     "name": "stdout",
     "output_type": "stream",
     "text": [
      "<class 'pandas.core.frame.DataFrame'>\n",
      "RangeIndex: 5334 entries, 0 to 5333\n",
      "Data columns (total 15 columns):\n",
      " #   Column    Non-Null Count  Dtype  \n",
      "---  ------    --------------  -----  \n",
      " 0   SEQN      5334 non-null   int64  \n",
      " 1   DPQ010    4836 non-null   float64\n",
      " 2   DPQ020    4836 non-null   float64\n",
      " 3   DPQ030    4836 non-null   float64\n",
      " 4   DPQ040    4836 non-null   float64\n",
      " 5   DPQ050    4836 non-null   float64\n",
      " 6   DPQ060    4836 non-null   float64\n",
      " 7   DPQ070    4836 non-null   float64\n",
      " 8   DPQ080    4836 non-null   float64\n",
      " 9   DPQ090    4836 non-null   float64\n",
      " 10  RIAGENDR  5334 non-null   int64  \n",
      " 11  RIDAGEYR  5334 non-null   int64  \n",
      " 12  RIDRETH1  5334 non-null   int64  \n",
      " 13  DMDEDUC   5334 non-null   int64  \n",
      " 14  INDFMINC  5287 non-null   float64\n",
      "dtypes: float64(10), int64(5)\n",
      "memory usage: 625.2 KB\n"
     ]
    }
   ],
   "source": [
    "demo.info()"
   ]
  },
  {
   "cell_type": "markdown",
   "metadata": {},
   "source": [
    "Precisa-se de uma variável que "
   ]
  },
  {
   "cell_type": "code",
   "execution_count": 5,
   "metadata": {},
   "outputs": [
    {
     "data": {
      "text/html": [
       "<div>\n",
       "<style scoped>\n",
       "    .dataframe tbody tr th:only-of-type {\n",
       "        vertical-align: middle;\n",
       "    }\n",
       "\n",
       "    .dataframe tbody tr th {\n",
       "        vertical-align: top;\n",
       "    }\n",
       "\n",
       "    .dataframe thead th {\n",
       "        text-align: right;\n",
       "    }\n",
       "</style>\n",
       "<table border=\"1\" class=\"dataframe\">\n",
       "  <thead>\n",
       "    <tr style=\"text-align: right;\">\n",
       "      <th></th>\n",
       "      <th>SEQN</th>\n",
       "      <th>DPQ010</th>\n",
       "      <th>DPQ020</th>\n",
       "      <th>DPQ030</th>\n",
       "      <th>DPQ040</th>\n",
       "      <th>DPQ050</th>\n",
       "      <th>DPQ060</th>\n",
       "      <th>DPQ070</th>\n",
       "      <th>DPQ080</th>\n",
       "      <th>DPQ090</th>\n",
       "      <th>RIAGENDR</th>\n",
       "      <th>RIDAGEYR</th>\n",
       "      <th>RIDRETH1</th>\n",
       "      <th>DMDEDUC</th>\n",
       "      <th>INDFMINC</th>\n",
       "    </tr>\n",
       "  </thead>\n",
       "  <tbody>\n",
       "    <tr>\n",
       "      <th>1395</th>\n",
       "      <td>33959</td>\n",
       "      <td>9.0</td>\n",
       "      <td>0.0</td>\n",
       "      <td>0.0</td>\n",
       "      <td>0.0</td>\n",
       "      <td>0.0</td>\n",
       "      <td>0.0</td>\n",
       "      <td>0.0</td>\n",
       "      <td>0.0</td>\n",
       "      <td>0.0</td>\n",
       "      <td>2</td>\n",
       "      <td>81</td>\n",
       "      <td>3</td>\n",
       "      <td>2</td>\n",
       "      <td>2.0</td>\n",
       "    </tr>\n",
       "    <tr>\n",
       "      <th>1686</th>\n",
       "      <td>34531</td>\n",
       "      <td>9.0</td>\n",
       "      <td>0.0</td>\n",
       "      <td>3.0</td>\n",
       "      <td>3.0</td>\n",
       "      <td>3.0</td>\n",
       "      <td>0.0</td>\n",
       "      <td>0.0</td>\n",
       "      <td>9.0</td>\n",
       "      <td>0.0</td>\n",
       "      <td>1</td>\n",
       "      <td>81</td>\n",
       "      <td>3</td>\n",
       "      <td>1</td>\n",
       "      <td>4.0</td>\n",
       "    </tr>\n",
       "    <tr>\n",
       "      <th>2231</th>\n",
       "      <td>35522</td>\n",
       "      <td>9.0</td>\n",
       "      <td>0.0</td>\n",
       "      <td>3.0</td>\n",
       "      <td>3.0</td>\n",
       "      <td>0.0</td>\n",
       "      <td>0.0</td>\n",
       "      <td>0.0</td>\n",
       "      <td>0.0</td>\n",
       "      <td>0.0</td>\n",
       "      <td>2</td>\n",
       "      <td>85</td>\n",
       "      <td>3</td>\n",
       "      <td>4</td>\n",
       "      <td>3.0</td>\n",
       "    </tr>\n",
       "    <tr>\n",
       "      <th>2518</th>\n",
       "      <td>36074</td>\n",
       "      <td>9.0</td>\n",
       "      <td>0.0</td>\n",
       "      <td>0.0</td>\n",
       "      <td>0.0</td>\n",
       "      <td>0.0</td>\n",
       "      <td>0.0</td>\n",
       "      <td>0.0</td>\n",
       "      <td>0.0</td>\n",
       "      <td>0.0</td>\n",
       "      <td>1</td>\n",
       "      <td>70</td>\n",
       "      <td>2</td>\n",
       "      <td>5</td>\n",
       "      <td>8.0</td>\n",
       "    </tr>\n",
       "    <tr>\n",
       "      <th>3240</th>\n",
       "      <td>37498</td>\n",
       "      <td>9.0</td>\n",
       "      <td>9.0</td>\n",
       "      <td>9.0</td>\n",
       "      <td>3.0</td>\n",
       "      <td>0.0</td>\n",
       "      <td>3.0</td>\n",
       "      <td>0.0</td>\n",
       "      <td>0.0</td>\n",
       "      <td>0.0</td>\n",
       "      <td>2</td>\n",
       "      <td>85</td>\n",
       "      <td>4</td>\n",
       "      <td>1</td>\n",
       "      <td>2.0</td>\n",
       "    </tr>\n",
       "    <tr>\n",
       "      <th>3639</th>\n",
       "      <td>38245</td>\n",
       "      <td>9.0</td>\n",
       "      <td>0.0</td>\n",
       "      <td>0.0</td>\n",
       "      <td>1.0</td>\n",
       "      <td>0.0</td>\n",
       "      <td>0.0</td>\n",
       "      <td>0.0</td>\n",
       "      <td>0.0</td>\n",
       "      <td>0.0</td>\n",
       "      <td>2</td>\n",
       "      <td>21</td>\n",
       "      <td>3</td>\n",
       "      <td>3</td>\n",
       "      <td>6.0</td>\n",
       "    </tr>\n",
       "    <tr>\n",
       "      <th>3767</th>\n",
       "      <td>38500</td>\n",
       "      <td>9.0</td>\n",
       "      <td>0.0</td>\n",
       "      <td>0.0</td>\n",
       "      <td>0.0</td>\n",
       "      <td>0.0</td>\n",
       "      <td>0.0</td>\n",
       "      <td>0.0</td>\n",
       "      <td>0.0</td>\n",
       "      <td>0.0</td>\n",
       "      <td>1</td>\n",
       "      <td>65</td>\n",
       "      <td>4</td>\n",
       "      <td>2</td>\n",
       "      <td>11.0</td>\n",
       "    </tr>\n",
       "    <tr>\n",
       "      <th>5092</th>\n",
       "      <td>41008</td>\n",
       "      <td>9.0</td>\n",
       "      <td>3.0</td>\n",
       "      <td>9.0</td>\n",
       "      <td>3.0</td>\n",
       "      <td>3.0</td>\n",
       "      <td>3.0</td>\n",
       "      <td>9.0</td>\n",
       "      <td>1.0</td>\n",
       "      <td>2.0</td>\n",
       "      <td>2</td>\n",
       "      <td>40</td>\n",
       "      <td>3</td>\n",
       "      <td>4</td>\n",
       "      <td>1.0</td>\n",
       "    </tr>\n",
       "    <tr>\n",
       "      <th>5114</th>\n",
       "      <td>41040</td>\n",
       "      <td>9.0</td>\n",
       "      <td>0.0</td>\n",
       "      <td>0.0</td>\n",
       "      <td>1.0</td>\n",
       "      <td>0.0</td>\n",
       "      <td>0.0</td>\n",
       "      <td>1.0</td>\n",
       "      <td>0.0</td>\n",
       "      <td>0.0</td>\n",
       "      <td>2</td>\n",
       "      <td>85</td>\n",
       "      <td>3</td>\n",
       "      <td>2</td>\n",
       "      <td>5.0</td>\n",
       "    </tr>\n",
       "  </tbody>\n",
       "</table>\n",
       "</div>"
      ],
      "text/plain": [
       "       SEQN  DPQ010  DPQ020  DPQ030  DPQ040  DPQ050  DPQ060  DPQ070  DPQ080  \\\n",
       "1395  33959     9.0     0.0     0.0     0.0     0.0     0.0     0.0     0.0   \n",
       "1686  34531     9.0     0.0     3.0     3.0     3.0     0.0     0.0     9.0   \n",
       "2231  35522     9.0     0.0     3.0     3.0     0.0     0.0     0.0     0.0   \n",
       "2518  36074     9.0     0.0     0.0     0.0     0.0     0.0     0.0     0.0   \n",
       "3240  37498     9.0     9.0     9.0     3.0     0.0     3.0     0.0     0.0   \n",
       "3639  38245     9.0     0.0     0.0     1.0     0.0     0.0     0.0     0.0   \n",
       "3767  38500     9.0     0.0     0.0     0.0     0.0     0.0     0.0     0.0   \n",
       "5092  41008     9.0     3.0     9.0     3.0     3.0     3.0     9.0     1.0   \n",
       "5114  41040     9.0     0.0     0.0     1.0     0.0     0.0     1.0     0.0   \n",
       "\n",
       "      DPQ090  RIAGENDR  RIDAGEYR  RIDRETH1  DMDEDUC  INDFMINC  \n",
       "1395     0.0         2        81         3        2       2.0  \n",
       "1686     0.0         1        81         3        1       4.0  \n",
       "2231     0.0         2        85         3        4       3.0  \n",
       "2518     0.0         1        70         2        5       8.0  \n",
       "3240     0.0         2        85         4        1       2.0  \n",
       "3639     0.0         2        21         3        3       6.0  \n",
       "3767     0.0         1        65         4        2      11.0  \n",
       "5092     2.0         2        40         3        4       1.0  \n",
       "5114     0.0         2        85         3        2       5.0  "
      ]
     },
     "execution_count": 5,
     "metadata": {},
     "output_type": "execute_result"
    }
   ],
   "source": [
    "demo.query('DPQ010 == 9')"
   ]
  },
  {
   "cell_type": "code",
   "execution_count": 6,
   "metadata": {},
   "outputs": [],
   "source": [
    "colunas = ['DPQ010','DPQ020','DPQ030','DPQ040','DPQ050','DPQ060','DPQ070','DPQ080','DPQ090']\n",
    "\n",
    "demo[colunas] = demo[colunas].replace({7: 0, 9: 0})\n",
    "\n",
    "demo['DPQ_SCORE'] = demo[colunas].sum(axis=1)"
   ]
  },
  {
   "cell_type": "markdown",
   "metadata": {},
   "source": [
    "## **Limpeza dos dados**"
   ]
  },
  {
   "cell_type": "code",
   "execution_count": 7,
   "metadata": {},
   "outputs": [
    {
     "data": {
      "text/plain": [
       "SEQN         0.000000\n",
       "DPQ010       9.336333\n",
       "DPQ020       9.336333\n",
       "DPQ030       9.336333\n",
       "DPQ040       9.336333\n",
       "DPQ050       9.336333\n",
       "DPQ060       9.336333\n",
       "DPQ070       9.336333\n",
       "DPQ080       9.336333\n",
       "DPQ090       9.336333\n",
       "RIAGENDR     0.000000\n",
       "RIDAGEYR     0.000000\n",
       "RIDRETH1     0.000000\n",
       "DMDEDUC      0.000000\n",
       "INDFMINC     0.881140\n",
       "DPQ_SCORE    0.000000\n",
       "dtype: float64"
      ]
     },
     "execution_count": 7,
     "metadata": {},
     "output_type": "execute_result"
    }
   ],
   "source": [
    "# Veriricando a porcentagem de valores ausentes\n",
    "demo.isnull().sum() / demo.shape[0] * 100"
   ]
  },
  {
   "cell_type": "markdown",
   "metadata": {},
   "source": [
    "As colunas DPQ010 à DPQ090 apresentam uma quantidade significativa de valores nulos, portanto, deve-se análisar se os dados ausentes têm relação com alguma variável. Por estar interessado principalmente na presença e na direção de uma relação entre duas variáveis, independentemente da forma específica da relação, a correlação de Spearman ou de Kendall pode ser preferível. Portanto, será realizado ambos os testes para verificar se são aleatórias as ausencias de dados."
   ]
  },
  {
   "cell_type": "markdown",
   "metadata": {},
   "source": [
    "### Correlação de Kendall"
   ]
  },
  {
   "cell_type": "code",
   "execution_count": 8,
   "metadata": {},
   "outputs": [
    {
     "name": "stdout",
     "output_type": "stream",
     "text": [
      "          ausente_DPQ010  ausente_DPQ020  ausente_DPQ030  ausente_DPQ040  \\\n",
      "RIAGENDR        0.011741        0.011741        0.011741        0.011741   \n",
      "RIDAGEYR        0.010756        0.010756        0.010756        0.010756   \n",
      "RIDRETH1        0.036781        0.036781        0.036781        0.036781   \n",
      "DMDEDUC        -0.057435       -0.057435       -0.057435       -0.057435   \n",
      "INDFMINC             NaN             NaN             NaN             NaN   \n",
      "\n",
      "          ausente_DPQ050  ausente_DPQ060  ausente_DPQ070  ausente_DPQ080  \\\n",
      "RIAGENDR        0.011741        0.011741        0.011741        0.011741   \n",
      "RIDAGEYR        0.010756        0.010756        0.010756        0.010756   \n",
      "RIDRETH1        0.036781        0.036781        0.036781        0.036781   \n",
      "DMDEDUC        -0.057435       -0.057435       -0.057435       -0.057435   \n",
      "INDFMINC             NaN             NaN             NaN             NaN   \n",
      "\n",
      "          ausente_DPQ090  ausente_DPQ_SCORE  \n",
      "RIAGENDR        0.011741                NaN  \n",
      "RIDAGEYR        0.010756                NaN  \n",
      "RIDRETH1        0.036781                NaN  \n",
      "DMDEDUC        -0.057435                NaN  \n",
      "INDFMINC             NaN                NaN  \n"
     ]
    }
   ],
   "source": [
    "# Criar variáveis indicadoras de ausência para as variáveis DPQ\n",
    "for col in demo.columns:\n",
    "    if col.startswith('DPQ'):\n",
    "        demo[f'ausente_{col}'] = demo[col].isnull().astype(int)\n",
    "\n",
    "# Variáveis de interesse\n",
    "variaveis_interesse = ['RIAGENDR', 'RIDAGEYR', 'RIDRETH1', 'DMDEDUC', 'INDFMINC']\n",
    "\n",
    "# Calcular a correlação de Kendall entre a presença de valores ausentes nas variáveis DPQ e as variáveis de interesse\n",
    "correlacoes_kendall = {}\n",
    "for col in demo.columns:\n",
    "    if col.startswith('ausente_DPQ'):\n",
    "        correlacoes_kendall[col] = {}\n",
    "        for var in variaveis_interesse:\n",
    "            tau, _ = kendalltau(demo[col], demo[var])\n",
    "            correlacoes_kendall[col][var] = tau\n",
    "\n",
    "# Converter o dicionário de correlações em um DataFrame para visualização\n",
    "df_correlacoes_kendall = pd.DataFrame(correlacoes_kendall)\n",
    "\n",
    "print(df_correlacoes_kendall)"
   ]
  },
  {
   "cell_type": "markdown",
   "metadata": {},
   "source": [
    "### Correlação de Spearman"
   ]
  },
  {
   "cell_type": "code",
   "execution_count": 9,
   "metadata": {},
   "outputs": [
    {
     "name": "stdout",
     "output_type": "stream",
     "text": [
      "          ausente_DPQ010  ausente_DPQ020  ausente_DPQ030  ausente_DPQ040  \\\n",
      "RIAGENDR        0.011741        0.011741        0.011741        0.011741   \n",
      "RIDAGEYR        0.013051        0.013051        0.013051        0.013051   \n",
      "RIDRETH1        0.039521        0.039521        0.039521        0.039521   \n",
      "DMDEDUC        -0.063881       -0.063881       -0.063881       -0.063881   \n",
      "INDFMINC             NaN             NaN             NaN             NaN   \n",
      "\n",
      "          ausente_DPQ050  ausente_DPQ060  ausente_DPQ070  ausente_DPQ080  \\\n",
      "RIAGENDR        0.011741        0.011741        0.011741        0.011741   \n",
      "RIDAGEYR        0.013051        0.013051        0.013051        0.013051   \n",
      "RIDRETH1        0.039521        0.039521        0.039521        0.039521   \n",
      "DMDEDUC        -0.063881       -0.063881       -0.063881       -0.063881   \n",
      "INDFMINC             NaN             NaN             NaN             NaN   \n",
      "\n",
      "          ausente_DPQ090  ausente_DPQ_SCORE  \n",
      "RIAGENDR        0.011741                NaN  \n",
      "RIDAGEYR        0.013051                NaN  \n",
      "RIDRETH1        0.039521                NaN  \n",
      "DMDEDUC        -0.063881                NaN  \n",
      "INDFMINC             NaN                NaN  \n"
     ]
    },
    {
     "name": "stderr",
     "output_type": "stream",
     "text": [
      "/var/folders/5b/94pzbwt93956n1sc6yjsyf2c0000gn/T/ipykernel_1857/359601840.py:14: ConstantInputWarning: An input array is constant; the correlation coefficient is not defined.\n",
      "  rho, _ = spearmanr(demo[col], demo[var])\n"
     ]
    }
   ],
   "source": [
    "for col in demo.columns:\n",
    "    if col.startswith('DPQ'):\n",
    "        demo[f'ausente_{col}'] = demo[col].isnull().astype(int)\n",
    "\n",
    "# Variáveis de interesse\n",
    "variaveis_interesse = ['RIAGENDR', 'RIDAGEYR', 'RIDRETH1', 'DMDEDUC', 'INDFMINC']\n",
    "\n",
    "# Calcular a correlação de Spearman entre a presença de valores ausentes nas variáveis DPQ e as variáveis de interesse\n",
    "correlacoes_spearman = {}\n",
    "for col in demo.columns:\n",
    "    if col.startswith('ausente_DPQ'):\n",
    "        correlacoes_spearman[col] = {}\n",
    "        for var in variaveis_interesse:\n",
    "            rho, _ = spearmanr(demo[col], demo[var])\n",
    "            correlacoes_spearman[col][var] = rho\n",
    "\n",
    "# Converter o dicionário de correlações em um DataFrame para visualização\n",
    "df_correlacoes_spearman = pd.DataFrame(correlacoes_spearman)\n",
    "\n",
    "print(df_correlacoes_spearman)"
   ]
  },
  {
   "cell_type": "markdown",
   "metadata": {},
   "source": [
    "Como não apresentou forte correlação entre as variáveis, será realizada a limpeza dos valores nulos, para não prejuficar a análise. Está sendo considerado que os valores nulos apresentados no DataFrame são do tipo MCAR (Missing Completely At Random), ou seja, a probabilidade de um valor estar ausente é a mesma para todas as observações. Os valores ausentes são imprevisíveis e não podem ser explicados por nenhuma variável observada. A variável INDFMINC apresenta uma quantidade extremamente baixa de valores nulos, portanto, será removido os valores nulos também."
   ]
  },
  {
   "cell_type": "code",
   "execution_count": 10,
   "metadata": {},
   "outputs": [],
   "source": [
    "# Removendo as colunas que foram usadas na correlação\n",
    "demo.drop(columns=['ausente_DPQ010', 'ausente_DPQ020',  'ausente_DPQ030', 'ausente_DPQ040', 'ausente_DPQ050', 'ausente_DPQ060',\n",
    "       'ausente_DPQ070', 'ausente_DPQ080', 'ausente_DPQ090'], inplace= True)"
   ]
  },
  {
   "cell_type": "code",
   "execution_count": 11,
   "metadata": {},
   "outputs": [],
   "source": [
    "# Removendo os valores nulos do DataFrame\n",
    "demo.dropna(inplace=True)"
   ]
  },
  {
   "cell_type": "markdown",
   "metadata": {},
   "source": [
    "## **Conhecendo o DataFrame - Pag**"
   ]
  },
  {
   "cell_type": "code",
   "execution_count": 12,
   "metadata": {},
   "outputs": [],
   "source": [
    "pag = pd.read_csv('/Users/joaoaroca/Documents/Portfólio/depressao/portfolio/PAG_HEI.csv')"
   ]
  },
  {
   "cell_type": "code",
   "execution_count": 13,
   "metadata": {},
   "outputs": [
    {
     "name": "stdout",
     "output_type": "stream",
     "text": [
      "<class 'pandas.core.frame.DataFrame'>\n",
      "RangeIndex: 9424 entries, 0 to 9423\n",
      "Data columns (total 17 columns):\n",
      " #   Column                    Non-Null Count  Dtype  \n",
      "---  ------                    --------------  -----  \n",
      " 0   SEQN                      9424 non-null   int64  \n",
      " 1   PAG_MINW                  7150 non-null   float64\n",
      " 2   ADHERENCE                 7150 non-null   float64\n",
      " 3   HEI2015C1_TOTALVEG        8549 non-null   float64\n",
      " 4   HEI2015C2_GREEN_AND_BEAN  8549 non-null   float64\n",
      " 5   HEI2015C3_TOTALFRUIT      8549 non-null   float64\n",
      " 6   HEI2015C4_WHOLEFRUIT      8549 non-null   float64\n",
      " 7   HEI2015C5_WHOLEGRAIN      8549 non-null   float64\n",
      " 8   HEI2015C6_TOTALDAIRY      8549 non-null   float64\n",
      " 9   HEI2015C7_TOTPROT         8549 non-null   float64\n",
      " 10  HEI2015C8_SEAPLANT_PROT   8549 non-null   float64\n",
      " 11  HEI2015C9_FATTYACID       8549 non-null   float64\n",
      " 12  HEI2015C10_SODIUM         8549 non-null   float64\n",
      " 13  HEI2015C11_REFINEDGRAIN   8549 non-null   float64\n",
      " 14  HEI2015C12_SFAT           8549 non-null   float64\n",
      " 15  HEI2015C13_ADDSUG         8549 non-null   float64\n",
      " 16  HEI2015_TOTAL_SCORE       8549 non-null   float64\n",
      "dtypes: float64(16), int64(1)\n",
      "memory usage: 1.2 MB\n"
     ]
    }
   ],
   "source": [
    "pag.info()"
   ]
  },
  {
   "cell_type": "markdown",
   "metadata": {},
   "source": [
    "Sabe-se que os dados do DataFrame \"demo\" já estão todos tratados para se utilizar na análise. Contudo, essa nova base de dados \"pag\" não foi verificado ainda se necessita de limpeza. Foi observado que o DataFrame \"pag\" possui 9424 registros, enquanto o DataFrame \"demo\" possui apenas 4800 registros. Então, faz muito mais sentido fazer a junção das tabelas, antes mesmo de verificar as irregularidades do DataFrame \"pag\", visto que não serão utilizados todos os dados, logo, não necessita de limpeza em toda base. "
   ]
  },
  {
   "cell_type": "code",
   "execution_count": 14,
   "metadata": {},
   "outputs": [],
   "source": [
    "df_unido = pd.merge(demo, pag, how='left', on='SEQN')"
   ]
  },
  {
   "cell_type": "code",
   "execution_count": 15,
   "metadata": {},
   "outputs": [
    {
     "data": {
      "text/plain": [
       "SEQN                        0.000000\n",
       "DPQ010                      0.000000\n",
       "DPQ020                      0.000000\n",
       "DPQ030                      0.000000\n",
       "DPQ040                      0.000000\n",
       "DPQ050                      0.000000\n",
       "DPQ060                      0.000000\n",
       "DPQ070                      0.000000\n",
       "DPQ080                      0.000000\n",
       "DPQ090                      0.000000\n",
       "RIAGENDR                    0.000000\n",
       "RIDAGEYR                    0.000000\n",
       "RIDRETH1                    0.000000\n",
       "DMDEDUC                     0.000000\n",
       "INDFMINC                    0.000000\n",
       "DPQ_SCORE                   0.000000\n",
       "ausente_DPQ_SCORE           0.000000\n",
       "PAG_MINW                    0.000000\n",
       "ADHERENCE                   0.000000\n",
       "HEI2015C1_TOTALVEG          2.041667\n",
       "HEI2015C2_GREEN_AND_BEAN    2.041667\n",
       "HEI2015C3_TOTALFRUIT        2.041667\n",
       "HEI2015C4_WHOLEFRUIT        2.041667\n",
       "HEI2015C5_WHOLEGRAIN        2.041667\n",
       "HEI2015C6_TOTALDAIRY        2.041667\n",
       "HEI2015C7_TOTPROT           2.041667\n",
       "HEI2015C8_SEAPLANT_PROT     2.041667\n",
       "HEI2015C9_FATTYACID         2.041667\n",
       "HEI2015C10_SODIUM           2.041667\n",
       "HEI2015C11_REFINEDGRAIN     2.041667\n",
       "HEI2015C12_SFAT             2.041667\n",
       "HEI2015C13_ADDSUG           2.041667\n",
       "HEI2015_TOTAL_SCORE         2.041667\n",
       "dtype: float64"
      ]
     },
     "execution_count": 15,
     "metadata": {},
     "output_type": "execute_result"
    }
   ],
   "source": [
    "df_unido.isnull().sum() / len(df_unido) * 100"
   ]
  },
  {
   "cell_type": "markdown",
   "metadata": {},
   "source": [
    "Após a junção dos DataFrames foi observado uma quantidade extremamente baixa de valores ausentes, por não possuir uma quantidade alta, serão removidos os valores ausentes. "
   ]
  },
  {
   "cell_type": "code",
   "execution_count": 16,
   "metadata": {},
   "outputs": [],
   "source": [
    "df_unido.dropna(inplace=True)"
   ]
  },
  {
   "cell_type": "markdown",
   "metadata": {},
   "source": [
    "## **Análise Univariada**"
   ]
  },
  {
   "cell_type": "markdown",
   "metadata": {},
   "source": [
    "Será realizado a soma de DPQ010 à DPQ090 para obter um valor que possa representar o grau de sintomas depressivos. Como o valor 7 representa que a pessoa se recusou a responder e o valor 9 significa que a pessoa não sabe, serão alterados para 0, para não influenciarem no Score."
   ]
  },
  {
   "cell_type": "code",
   "execution_count": 17,
   "metadata": {},
   "outputs": [],
   "source": [
    "# Separando as coluans\n",
    "colunas = ['DPQ010','DPQ020','DPQ030','DPQ040','DPQ050','DPQ060','DPQ070','DPQ080','DPQ090']\n",
    "\n",
    "# Substituindo os valores de 7 e 9 por 0\n",
    "df_unido[colunas] = df_unido[colunas].replace({7: 0, 9: 0})\n",
    "\n",
    "# Realizando a soma das colunas\n",
    "df_unido['DPQ_SCORE'] = df_unido[colunas].sum(axis=1)"
   ]
  },
  {
   "cell_type": "markdown",
   "metadata": {},
   "source": [
    "Será criada a coluna CATEGORY que representará o grau de sintomas depressivos conforme descrito abaixo:\n",
    "\n",
    "* 0 (\"sem sintomas\") se DPQ_SCORE < 5\n",
    "\n",
    "* 1 (\"sintomas leves\") se 5 <= DPQ_SCORE < 10\n",
    "\n",
    "* 2 (\"sintomas moderados a severos\") se DPQ_SCORE >= 10"
   ]
  },
  {
   "cell_type": "code",
   "execution_count": 24,
   "metadata": {},
   "outputs": [],
   "source": [
    "# Criando a coluna CATEGORY com base no valor de DPQ_SCORE\n",
    "df_unido['CATEGORY'] = df_unido['DPQ_SCORE'].apply(lambda x: 0 if x < 5 else (1 if x < 10 and x >= 5 else 2))"
   ]
  },
  {
   "cell_type": "code",
   "execution_count": 44,
   "metadata": {},
   "outputs": [
    {
     "data": {
      "text/plain": [
       "CATEGORY\n",
       "0    3726\n",
       "Name: count, dtype: int64"
      ]
     },
     "execution_count": 44,
     "metadata": {},
     "output_type": "execute_result"
    }
   ],
   "source": [
    "# Verificando se criou corretamente para os valores de DPQ_SCORE < 5\n",
    "df_unido['CATEGORY'].loc[df_unido['DPQ_SCORE'] < 5].value_counts()"
   ]
  },
  {
   "cell_type": "code",
   "execution_count": 65,
   "metadata": {},
   "outputs": [
    {
     "data": {
      "text/plain": [
       "CATEGORY\n",
       "1    684\n",
       "Name: count, dtype: int64"
      ]
     },
     "execution_count": 65,
     "metadata": {},
     "output_type": "execute_result"
    }
   ],
   "source": [
    "# Verificando se criou corretamente para os valores de DPQ_SCORE < 10 e >= 5\n",
    "df_unido['CATEGORY'].loc[(df_unido['DPQ_SCORE'] < 10) & (df_unido['DPQ_SCORE'] >= 5)].value_counts()"
   ]
  },
  {
   "cell_type": "code",
   "execution_count": 50,
   "metadata": {},
   "outputs": [
    {
     "data": {
      "text/plain": [
       "CATEGORY\n",
       "2    292\n",
       "Name: count, dtype: int64"
      ]
     },
     "execution_count": 50,
     "metadata": {},
     "output_type": "execute_result"
    }
   ],
   "source": [
    "# Verificando se criou corretamente para os valores de DPQ_SCORE >= 10\n",
    "df_unido['CATEGORY'].loc[df_unido['DPQ_SCORE']>= 10].value_counts()"
   ]
  },
  {
   "cell_type": "markdown",
   "metadata": {},
   "source": [
    "### **Variáveis Categóricas**"
   ]
  },
  {
   "cell_type": "code",
   "execution_count": null,
   "metadata": {},
   "outputs": [],
   "source": []
  }
 ],
 "metadata": {
  "kernelspec": {
   "display_name": "venv",
   "language": "python",
   "name": "python3"
  },
  "language_info": {
   "codemirror_mode": {
    "name": "ipython",
    "version": 3
   },
   "file_extension": ".py",
   "mimetype": "text/x-python",
   "name": "python",
   "nbconvert_exporter": "python",
   "pygments_lexer": "ipython3",
   "version": "3.10.7"
  },
  "orig_nbformat": 4
 },
 "nbformat": 4,
 "nbformat_minor": 2
}
